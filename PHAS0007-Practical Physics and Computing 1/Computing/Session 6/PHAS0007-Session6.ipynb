{
 "cells": [
  {
   "cell_type": "markdown",
   "metadata": {},
   "source": [
    "# Session 6: Python functions, and interactive plots\n",
    "Louise Dash, 2nd November 2018"
   ]
  },
  {
   "cell_type": "markdown",
   "metadata": {},
   "source": [
    "### Learning objectives\n",
    "\n",
    "By the end of this session, you should\n",
    "* Be familiar with the basic structure, usage and implementation of user-defined Python functions\n",
    "* Have a basic understanding of how to create interactive plots"
   ]
  },
  {
   "cell_type": "markdown",
   "metadata": {},
   "source": [
    "## Introduction\n",
    "\n",
    "We'll be doing plotting in this session, so we'll start by immediately importing numpy and matplotlib. There's a few more things we'll introduce and import later on, so watch out for them!\n",
    "\n",
    "In sessions 4 and 5 we used the `%matplotlib notebook` backend for plotting, but the widgets we'll be using in this session work best when we use the `%matplotlib inline` backend, which is what we'll use here."
   ]
  },
  {
   "cell_type": "code",
   "execution_count": 1,
   "metadata": {},
   "outputs": [],
   "source": [
    "%matplotlib inline\n",
    "import numpy as np\n",
    "import matplotlib.pyplot as plt\n"
   ]
  },
  {
   "cell_type": "markdown",
   "metadata": {},
   "source": [
    "### Python functions\n",
    "Sometimes, we'll want to do some task many times, but a loop structure isn't appropriate.\n",
    "\n",
    "In these cases, we can write our own functions, and call them just like python's inbuilt functions.\n",
    "\n",
    "For example, look at the sinc function:\n",
    "\n",
    "$$\\text{sinc}(x) = \\frac{\\sin(x)}{x}$$\n",
    "\n",
    "We can write a Python function that will calculate this, and which we can then call when needed using sincfn(value)"
   ]
  },
  {
   "cell_type": "code",
   "execution_count": 2,
   "metadata": {},
   "outputs": [],
   "source": [
    "def sincfn(x):\n",
    "    \"\"\"Returns sin(x)/x for the input x\"\"\"\n",
    "    sincx = np.sin(x) / x\n",
    "    return sincx\n"
   ]
  },
  {
   "cell_type": "markdown",
   "metadata": {},
   "source": [
    "How does this work?\n",
    "* The first line defines the name of the function (in this case, sincfn), and includes the arguments, or inputs to the function, in parentheses. In this case, there is just one argument (`x`), which can be either a single number, or, as we will see below, an entire numpy array of numbers.\n",
    "* The first line ends with a colon, just like a while loop or if statement.\n",
    "* Likewise, the following lines are all indented to show that they belong to the function\n",
    "* The second line is a docstring, which helps document the function:\n",
    " It is enclosed by three quotation marks. This is the text that will be displayed as help for the function.\n",
    "    * **All functions that you write should include a docstring** (more complicated functions will also require some #comments as well, of course). \n",
    "* The third line is the definition of the function itself. In this simple example, we only need one line of code, but functions can include as many lines of code as needed.\n",
    "* The fourth line contains the keyword \"return\". This tells Python to return the following value(s) as output from the function.\n",
    "\n",
    "Note that the \"x\" in this function is a _local_ variable, which is only defined within the function. When we call the function we don't need to use the variable name x: \"sincfn(bananas)\" or \"sincfn(whatever)\" will work as long as the variable is properly defined.\n",
    "\n",
    "\n",
    "### How to call a function:\n",
    "If we run just the example function as written above (try it!), it doesn't do anything. This is because we need to call the function.\n",
    "\n",
    "But once the function is defined, we can call it from anywhere else in the same Jupyter notebook or standalone .py code. (You can also combine functions into a separate module and import them, but we won't cover that here.)\n",
    "\n",
    "For example, now we've defined our sincfn, we can use it:"
   ]
  },
  {
   "cell_type": "code",
   "execution_count": 3,
   "metadata": {},
   "outputs": [
    {
     "data": {
      "image/png": "[encoded data removed]",
      "text/plain": [
       "<Figure size 432x288 with 1 Axes>"
      ]
     },
     "metadata": {
      "needs_background": "light"
     },
     "output_type": "display_data"
    }
   ],
   "source": [
    "xpoints = np.linspace(-20,20,1000) # grid of x data\n",
    "\n",
    "# Now we call the function.\n",
    "# Notice that we are sending a numpy array to the function,\n",
    "# thus ypoints will also be a numpy array with the same dimensions as xpoints.\n",
    "ypoints = sincfn(xpoints) # the function to plot   \n",
    "\n",
    "plt.plot(xpoints,ypoints)\n",
    "plt.title(\"Sinc function\")\n",
    "plt.xlabel(\"x\")\n",
    "plt.ylabel(\"sinc(x)\")\n",
    "plt.axhline(linewidth=0.5,ls=':'); # adds a fine dotted line along axis\n"
   ]
  },
  {
   "cell_type": "markdown",
   "metadata": {},
   "source": [
    "**Things to note here:**\n",
    "\n",
    "* The function works not just for a single value of `x`, but can also be called with an array of x-values, as here.\n",
    "* The function is called just like a built-in function.\n",
    "* By convention, functions are usually included at the start of the program file (for a standalone code), after any import commands but before the main body of the code. In practice you may want to place them elsewhere to make the code more readable (especially in the case of a Jupyter Notebook), but in any case they *must* be defined before the point in the code where they are used. \n",
    "\n",
    "\n",
    "**Be careful:**\n",
    "\n",
    "* Watch out for how you define the function. What happens here if we call sincfn(0)? (Try it, if it's not obvious.) How could we avoid this?\n",
    "* Numpy contains its own `sinc` function. If we'd named our function `sinc`, this may have caused confusion and possible errors: Choose function names carefully, make sure they don't clash with inbuilt functions. By using \"`import numpy as np`\", we (at least partly) avoid this problem, as the numpy `sinc` function would be called as `np.sinc`, not as `sinc.` This is why it's better to import modules using \"`import numpy as np`\" etc, rather than \"`from numpy import *`\""
   ]
  },
  {
   "cell_type": "markdown",
   "metadata": {},
   "source": [
    "## Sliders and other widgets\n",
    "\n",
    "Now we're going to look in a bit more detail about how we can interact with plots using the widgets and sliders we saw in the least-squares visualisation code from Session 5.\n"
   ]
  },
  {
   "cell_type": "markdown",
   "metadata": {},
   "source": [
    "### Sample widget code for a sin function, with a slider to adjust the phase\n",
    "\n",
    "Here's a much simpler example than the interactive least squares code.\n",
    "\n",
    "This code plots a sin function\n",
    "$$y = \\sin(x + \\phi),$$\n",
    "and includes a slider that changes the phase $\\phi$. \n",
    "\n",
    "The first thing to do is import the necessary interactive functions.\n",
    "\n",
    "\n",
    "\n"
   ]
  },
  {
   "cell_type": "code",
   "execution_count": 2,
   "metadata": {},
   "outputs": [],
   "source": [
    "from ipywidgets import interactive\n",
    "from IPython.display import display"
   ]
  },
  {
   "cell_type": "markdown",
   "metadata": {},
   "source": [
    "Now we can set up the initial data - all we need here are some x-values for the plot."
   ]
  },
  {
   "cell_type": "code",
   "execution_count": 5,
   "metadata": {},
   "outputs": [],
   "source": [
    "### Set up the initial data:\n",
    "\n",
    "x = np.linspace(0,25,1000) # grid of x data\n"
   ]
  },
  {
   "cell_type": "markdown",
   "metadata": {},
   "source": [
    "Now we need to define a function that will redraw the plot when the slider position is changed (because, as noted above, we need to make sure that the function is defined before we can call it). This function is called when the slider (defined in the next-but-one cell) is moved to position `phi`. The function takes the value of `phi` as the current phase, and recalculates $y = \\sin(x + \\phi)$ for this phase, then redraws the new function on the plot."
   ]
  },
  {
   "cell_type": "code",
   "execution_count": 4,
   "metadata": {},
   "outputs": [],
   "source": [
    "def plot_phase(phi):\n",
    "    \"\"\"\n",
    "    function to draw plot based on current slider phase position phi\n",
    "    Requires that the global variable x is already defined.\n",
    "    \"\"\"\n",
    "    y = np.sin(x + phi) # calculate the y-values based on current phase from slider\n",
    "    plt.plot(x, y, linewidth=1, color='r') \n",
    "    plt.ylabel(\"sin(x + $\\phi$)\")\n",
    "    plt.xlabel(\"x\")\n",
    "    plt.title(\"Variation of sin function with phase $\\phi$\")\n",
    "    # The next line is only strictly necessary if you're using older versions of Anaconda\n",
    "    # however on an up-to-date installation it doesn't cause any problems\n",
    "    plt.show() \n",
    "    "
   ]
  },
  {
   "cell_type": "markdown",
   "metadata": {},
   "source": [
    "Now we've defined the function, we can set up the plot. This is code you'll be able to reuse later, and is reasonably intuitive. The first line of the cell uses the `interactive` function we imported from IPython widgets / ipywidgets to call our `plot_phase` function. The second line displays it. Note how the limits and step-size for the slider are specified in the first line.\n",
    "\n",
    "(n.b. In this case we haven't specified the initial value of the slider. It is possible to do that, but in the interests of keeping things simple, we've just gone with the default.)"
   ]
  },
  {
   "cell_type": "code",
   "execution_count": 3,
   "metadata": {},
   "outputs": [
    {
     "ename": "NameError",
     "evalue": "name 'plot_phase' is not defined",
     "output_type": "error",
     "traceback": [
      "\u001b[1;31m---------------------------------------------------------------------------\u001b[0m",
      "\u001b[1;31mNameError\u001b[0m                                 Traceback (most recent call last)",
      "\u001b[1;32m<ipython-input-3-45959c433276>\u001b[0m in \u001b[0;36m<module>\u001b[1;34m()\u001b[0m\n\u001b[0;32m      1\u001b[0m \u001b[1;31m# generate interactive plot\u001b[0m\u001b[1;33m\u001b[0m\u001b[1;33m\u001b[0m\u001b[0m\n\u001b[1;32m----> 2\u001b[1;33m \u001b[0msin_phase_plot\u001b[0m \u001b[1;33m=\u001b[0m \u001b[0minteractive\u001b[0m\u001b[1;33m(\u001b[0m\u001b[0mplot_phase\u001b[0m\u001b[1;33m,\u001b[0m \u001b[0mphi\u001b[0m\u001b[1;33m=\u001b[0m\u001b[1;33m(\u001b[0m\u001b[1;36m0\u001b[0m\u001b[1;33m,\u001b[0m\u001b[1;36m4\u001b[0m\u001b[1;33m*\u001b[0m\u001b[0mnp\u001b[0m\u001b[1;33m.\u001b[0m\u001b[0mpi\u001b[0m\u001b[1;33m,\u001b[0m\u001b[1;36m0.1\u001b[0m\u001b[1;33m)\u001b[0m\u001b[1;33m)\u001b[0m\u001b[1;33m\u001b[0m\u001b[0m\n\u001b[0m\u001b[0;32m      3\u001b[0m \u001b[0mdisplay\u001b[0m\u001b[1;33m(\u001b[0m\u001b[0msin_phase_plot\u001b[0m\u001b[1;33m)\u001b[0m\u001b[1;33m\u001b[0m\u001b[0m\n",
      "\u001b[1;31mNameError\u001b[0m: name 'plot_phase' is not defined"
     ]
    }
   ],
   "source": [
    "# generate interactive plot\n",
    "sin_phase_plot = interactive(plot_phase, phi=(0,4*np.pi,0.1))\n",
    "display(sin_phase_plot)"
   ]
  },
  {
   "cell_type": "markdown",
   "metadata": {},
   "source": [
    "Experiment with this before moving onto the next section:\n",
    "\n",
    "* Change the limits on the values of x (using linspace) to get more or fewer cycles on the plot.\n",
    "* Change the limits on the slider.\n"
   ]
  },
  {
   "cell_type": "markdown",
   "metadata": {},
   "source": [
    "## Task: An interactive Fourier series square wave \n",
    "\n",
    "Now we've (hopefully) got the hang of how the sliders work, we can use them to visualise an important concept in Physics.\n",
    "\n",
    "### Fourier series\n",
    "Fourier's theorem says that any periodic function can be decomposed into the sum of sine and cosine functions. This is something you'll study in more depth in the Waves, Optics and Acoustics module PHAS0005 (if you're taking it) and will also come across in maths courses. We won't go into the full details of all the maths here, we just want to be able to understand the concept better by visualising it using Python\n",
    "\n",
    "We're going to see how this works by creating a square wave, like this:\n",
    "\n",
    "<img src=\"./squarewave.png\" width=400>\n",
    "\n",
    "*(if you can't see this image download the separate image file from Moodle)*\n",
    "\n",
    "\n",
    "\n",
    "from a Fourier series of sine functions, and use the slider to control the number of terms in the series. This will enable us to visualise exactly how the square wave is built up from sine waves of different frequencies and amplitudes. \n",
    "\n",
    "The Fourier series for a square wave is given by:\n",
    "\n",
    "$$f_\\text{square}(x) = \\frac{4}{\\pi} \\sum_{n = 1, 3, 5, \\ldots}^{\\infty} \\frac{1}{n} \\sin\\left(\\frac{n \\pi x}{L}\\right)$$\n",
    "\n",
    "where the period of the function is $[-L,L]$.  The $\\frac{4}{\\pi}$  outside the summation ensures that the amplitude of the square wave is 1. Note that each additional term in the series has a smaller amplitude (due to the 1/n term) and is also higher in frequency."
   ]
  },
  {
   "cell_type": "markdown",
   "metadata": {},
   "source": [
    "### What you need to do:\n",
    "\n",
    "Download the Session 6 task template notebook from Moodle. This is an incomplete code - your job is to complete it! The template contains full instructions in the green cells. \n",
    "\n",
    "\n"
   ]
  },
  {
   "cell_type": "code",
   "execution_count": null,
   "metadata": {},
   "outputs": [],
   "source": []
  }
 ],
 "metadata": {
  "anaconda-cloud": {},
  "kernelspec": {
   "display_name": "Python 3",
   "language": "python",
   "name": "python3"
  },
  "language_info": {
   "codemirror_mode": {
    "name": "ipython",
    "version": 3
   },
   "file_extension": ".py",
   "mimetype": "text/x-python",
   "name": "python",
   "nbconvert_exporter": "python",
   "pygments_lexer": "ipython3",
   "version": "3.6.5"
  },
  "widgets": {
   "state": {
    "af97c3933068498bba9b5e54ac4d38d7": {
     "views": [
      {
       "cell_index": 17
      }
     ]
    }
   },
   "version": "1.2.0"
  }
 },
 "nbformat": 4,
 "nbformat_minor": 1
}
