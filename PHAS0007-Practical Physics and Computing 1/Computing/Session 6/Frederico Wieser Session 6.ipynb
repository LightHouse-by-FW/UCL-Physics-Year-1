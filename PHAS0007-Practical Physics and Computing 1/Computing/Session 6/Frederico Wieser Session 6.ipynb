{
 "cells": [
  {
   "cell_type": "markdown",
   "metadata": {
    "collapsed": true
   },
   "source": [
    "# Seeing how the fourier square series varies with the number of terms one decides to implement, and seeing this in a graph  #\n",
    "\n",
    "## Frederico Wieser 16/11/2018 ##\n",
    "\n",
    "In this notebook we will be introducing the fourier square series and will be explaining how the fourier series varies over the number of terms we have in the series with an interactive plot and explanation at the end of the notebook."
   ]
  },
  {
   "cell_type": "markdown",
   "metadata": {},
   "source": [
    "<div class=\"alert alert-success\">\n",
    "<h2> The task: </h2>\n",
    "<br>\n",
    "This is a template for the session 6 Fourier Square Wave task. Your job is to fill in the blanks in the code and add text cells where needed. \n",
    "<br>\n",
    "All the instructions for the task are in green text cells like this one. You can keep these cells in your submitted workbook if you want, but they will be ignored by the markers.\n",
    "<br>\n",
    "You will be graded on your completed code, and the text cells that you add yourself. Some template text cells are already added, but feel free to add more.\n",
    "\n",
    "</div>"
   ]
  },
  {
   "cell_type": "markdown",
   "metadata": {},
   "source": [
    "<div class=\"alert alert-success\">\n",
    "Replace the title/header of this notebook with your own title, and include a suitable introduction (you can leave this until the end, but don't forget!)\n",
    "\n",
    "<br>\n",
    "Complete the cell below to import the functions you will need in order to be able to use the same interactive functions you saw in the script.\n",
    "<div>\n"
   ]
  },
  {
   "cell_type": "code",
   "execution_count": 1,
   "metadata": {},
   "outputs": [],
   "source": [
    "%matplotlib inline\n",
    "import numpy as np\n",
    "import matplotlib.pyplot as plt\n",
    "\n",
    "### YOU NEED TO IMPORT TWO MORE MODULE FUNCTIONS HERE ###\n",
    "from ipywidgets import interactive\n",
    "from IPython.display import display\n",
    "######################################################################\n",
    "\n",
    "# The line below increases the default figure size.\n",
    "# Useful if you are on a large screen, you may want to\n",
    "# edit it to taste or comment it out\n",
    "# if you are on a small-screen laptop.\n",
    "# Don't make the figure so large that you also need to adjust the text size though!\n",
    "# The default proportions are there for a reason...\n",
    "plt.rcParams['figure.figsize'] = 12, 8 \n",
    "\n"
   ]
  },
  {
   "cell_type": "markdown",
   "metadata": {},
   "source": [
    "<div class=\"alert alert-success\">\n",
    "The code cell below defines our initial data. A value for $L$, the period of the function, has already been set. Add a line that will create an array, named `x`, of values to use for the x-values for the plot from 0 to $5\\pi$, with an appropriate number of points to result in a smooth function on the plot (you can come back and adjust this later).\n",
    "<div>\n"
   ]
  },
  {
   "cell_type": "code",
   "execution_count": 2,
   "metadata": {},
   "outputs": [],
   "source": [
    "### Set up initial data\n",
    "L = np.pi # period of the function is [−L,L]\n",
    "##### STUDENT COMPLETED LINE #####\n",
    "x = np.linspace(0, 5*np.pi, 10000) #Setting up a 10000 element array from 0 to 5*Pi for the plot \n",
    "###################################"
   ]
  },
  {
   "cell_type": "markdown",
   "metadata": {},
   "source": [
    "<div class=\"alert alert-success\">\n",
    "The code cell below contains the start of a function that needs to calculate the Fourier series for a square wave, i.e. it codes the mathematical function\n",
    "$$f_\\text{square}(x) = \\frac{4}{\\pi} \\sum_{n = 1, 3, 5, \\ldots}^{\\infty} \\frac{1}{n} \\sin\\left(\\frac{n \\pi x}{L}\\right) \\qquad \\qquad (1)$$ \n",
    "for all $n$ up to and including $n = $ <tt>n_terms</tt> (as we will need to truncate our series at some finite point rather than continuing all the way to $n = \\infty$). The docstring has already been written for you.\n",
    "\n",
    "<ul>\n",
    "<li>\n",
    "Complete the function to calculate the Fourier series for the number of terms <tt>n_terms</tt> specified in the function input. </li>\n",
    "<li> <b>Don't change any of the variable names or the docstring. </b>Follow the specification given. </li>\n",
    "<li>Use a new text cell, as well as appropriate code comments, to describe your function.</li>\n",
    "</ul>\n",
    "\n",
    "<b> Note:</b> Here the variable <tt>L</tt> will act as a _global_ variable. It is defined in the cell above, and when you reference <tt>L</tt> in your function it will use that value of <tt>L</tt>, without having to explicitly pass it to the function. In other words, you don't need to redefine <tt>L</tt> within your function.\n",
    "\n",
    "<b> HINTS:</b> You will need to use the same kind of looping structure that you used in the series summation task for session 2. Think carefully about the differences and similarities between that summation and this one. In particular:\n",
    "<ul>\n",
    "<li>What are the start and end points of the summation?</li>\n",
    "<li>Are we summing over all values of n? How will you deal with this?</li>\n",
    "<li>Note that we're going to be calculating this for an array of x-values - however, as we saw in the \"sincfn\" example, this doesn't make any difference to the way the function is coded; it will automatically work either for a single x-value or an array.</li>\n",
    "</ul>\n",
    "\n",
    "<div>\n"
   ]
  },
  {
   "cell_type": "markdown",
   "metadata": {},
   "source": [
    "USE THIS TEXT CELL TO DESCRIBE YOUR FUNCTION"
   ]
  },
  {
   "cell_type": "code",
   "execution_count": 3,
   "metadata": {},
   "outputs": [],
   "source": [
    "def fourier_sum(x_input,n_terms):\n",
    "    '''function that creates the Fourier series for square wave.\n",
    "    Inputs:\n",
    "    x_input: array of x-values or single x-value\n",
    "    n_terms: maximum value of n in summation from eqn(1) above\n",
    "    Returns:\n",
    "    fourier: array of y-values for Fourier square wave\n",
    "    '''\n",
    "    #### STUDENT COMPLETED CELL ####\n",
    "    # Write code here to satisfy the specification given \n",
    "    # in the docstring.\n",
    "    \n",
    "    j = 1  #Starting a counter which increases by 2 each time a loop happens\n",
    "    fsum = 0 #Initialising the fourier sum before it has terms added to it by the while loop\n",
    "\n",
    "    while j <= n_terms:\n",
    "        term = (4/np.pi)*(1/j)*np.sin((j*np.pi*x_input)/L) #The unique term which changes every time the function loops\n",
    "        fsum = fsum + term #Updating the fourier sum with the new term of the loop\n",
    "        j = j + 2 #Increasing the counter by 2 since the fourier serier only itterates over odd numbers\n",
    "    \n",
    "    return fsum #Returning our fourier sum value according to the 2 parameters originally inputed to the function\n",
    "    ################################"
   ]
  },
  {
   "cell_type": "markdown",
   "metadata": {},
   "source": [
    "<div class=\"alert alert-success\">\n",
    "The code cell below will allow you to check that your <tt>fourier_sum</tt> function is working correctly. Does it generate the correct output for the given inputs? You should debug your function before proceeding. However, if you can't find the source of any problem it may be worth also writing the function that will plot the Fourier series (below!), in case looking at a plot of the function over the whole x-range reveals the source of the problem.\n",
    "</div>"
   ]
  },
  {
   "cell_type": "code",
   "execution_count": 4,
   "metadata": {},
   "outputs": [
    {
     "name": "stdout",
     "output_type": "stream",
     "text": [
      "At x = pi and n_terms = 1, my function returns 1.5592687330077502e-16 (it should be zero)\n",
      "At x = pi/2 and n_terms = 5, my function returns 1.1034742721038078 (it should be 1.10347...)\n"
     ]
    }
   ],
   "source": [
    "# check all is well before proceeding!\n",
    "print(\"At x = pi and n_terms = 1, my function returns\", fourier_sum(np.pi,1), \"(it should be zero)\")\n",
    "print(\"At x = pi/2 and n_terms = 5, my function returns\", fourier_sum(np.pi/2,5), \"(it should be 1.10347...)\")"
   ]
  },
  {
   "cell_type": "markdown",
   "metadata": {},
   "source": [
    "<div class=\"alert alert-success\">\n",
    "Now you need to write a function that will plot the Fourier series.\n",
    "\n",
    "The function in the code cell below, when completed, should \n",
    "<ul>\n",
    "<li>call your <tt>fourier_sum</tt> function from above to calculate the Fourier series for the number of terms as given in the input (i.e. n_terms); then</li>\n",
    "<li> plot it on a suitably labelled graph.</li>\n",
    "</ul><br>\n",
    "Don't forget the docstring! <br><br>\n",
    "Also remember that if you are using Desktop@UCL you will need to include `plt.show()` at the end of your function.\n",
    "\n",
    "<div>\n"
   ]
  },
  {
   "cell_type": "code",
   "execution_count": 5,
   "metadata": {},
   "outputs": [],
   "source": [
    "def plot_fourier(n_terms):\n",
    "    #### STUDENT COMPLETED CELL ####\n",
    "    y = fourier_sum(x,n_terms) #setting up a function where the number of terms in the fourier series is the only variable\n",
    "    plt.figure() #Initialising the plot\n",
    "    plt.plot(x, y) #Plotting our relationship\n",
    "    plt.grid(True) #Plots a grip in the backdrop of the data to give reference for the user.\n",
    "    plt.title(\"Fourier Series for a Square wave\") #Setting the title of graph.\n",
    "    plt.xlabel(\"x\") #Setting the x-axis label.\n",
    "    plt.ylabel(\"Fourier Sum\") #Setting the y-axis label.\n",
    "    return plt.show() #Outputing the graph\n",
    "    ################################\n",
    "    "
   ]
  },
  {
   "cell_type": "markdown",
   "metadata": {},
   "source": [
    "<div class=\"alert alert-success\">\n",
    "Now test that everything is running OK before you attempt to use the interactive slider. Add a single line in the cell below that will call your function to calculate and plot your Fourier series with $n= 3$. Does this look like how you'd expect? If not, go back and adjust your code until it does. Check it with other values of $n$ as well, and make sure you're happy with the results.\n",
    "<div>\n"
   ]
  },
  {
   "cell_type": "code",
   "execution_count": 6,
   "metadata": {},
   "outputs": [
    {
     "data": {
      "image/png": "[encoded data removed]",
      "text/plain": [
       "<Figure size 432x288 with 1 Axes>"
      ]
     },
     "metadata": {
      "needs_background": "light"
     },
     "output_type": "display_data"
    }
   ],
   "source": [
    "#### STUDENT COMPLETED CELL ####\n",
    "################################\n",
    "plot_fourier(3)"
   ]
  },
  {
   "cell_type": "markdown",
   "metadata": {},
   "source": [
    "<div class=\"alert alert-success\">\n",
    "The final code cell needs to plot your Fourier series with a slider so that you can vary the number of terms in the series and see how the square wave builds up as you move the slider and increase the number of terms in the series. Choose a sensible maximum number of terms (i.e. use your judgement to consider when adding extra terms makes the slider hard to use, or hard to see the changes in the plot, or slows down the working of the code).\n",
    "\n",
    "<br> \n",
    "Use a text cell to explain\n",
    "<ul>\n",
    "<li> Your choice of maximum number of terms </li>\n",
    "<li> What is happening when the slider moves from 1$\\rightarrow$2,  3$\\rightarrow$4, 5$\\rightarrow$6 etc.</li>\n",
    "\n",
    "<div>\n"
   ]
  },
  {
   "cell_type": "code",
   "execution_count": 7,
   "metadata": {},
   "outputs": [
    {
     "data": {
      "application/vnd.jupyter.widget-view+json": {
       "model_id": "e8239dab19eb438798f5b44cf8c226cb",
       "version_major": 2,
       "version_minor": 0
      },
      "text/plain": [
       "interactive(children=(IntSlider(value=50, description='n_terms', min=1), Output()), _dom_classes=('widget-inte…"
      ]
     },
     "metadata": {},
     "output_type": "display_data"
    }
   ],
   "source": [
    "### STUDENT COMPLETED CELL ###\n",
    "##############################\n",
    "#generate interactive plot\n",
    "plot = interactive(plot_fourier, n_terms=(1,100,1))\n",
    "display(plot)"
   ]
  },
  {
   "cell_type": "markdown",
   "metadata": {},
   "source": [
    "I have chosen to do a maximum number of 100 since as we reach this limit it is clear to see the square shape of the fourier series begin to take shape. 1 to 2, the graph stays sinusoidal. 2 to 3, the maximum and minimum of the sinusoidal shape now invert and point toward the x-axis. 3 to 4, not much change. 4 to 5, we now have 2 indents in the peak of our originally sinusoidal curve. These indents are of a smaller amplitude and have caused the sinusoidal graph peaks to become wider. We can extrapolate from this that as we continue adding 2 to the n_terms the number of indents will increase by one with smaller amplitudes and broader peaks. Which means that as we approach infinity this fourier sum would become more and mre square. "
   ]
  }
 ],
 "metadata": {
  "anaconda-cloud": {},
  "kernelspec": {
   "display_name": "Python 3",
   "language": "python",
   "name": "python3"
  },
  "language_info": {
   "codemirror_mode": {
    "name": "ipython",
    "version": 3
   },
   "file_extension": ".py",
   "mimetype": "text/x-python",
   "name": "python",
   "nbconvert_exporter": "python",
   "pygments_lexer": "ipython3",
   "version": "3.6.5"
  }
 },
 "nbformat": 4,
 "nbformat_minor": 1
}
