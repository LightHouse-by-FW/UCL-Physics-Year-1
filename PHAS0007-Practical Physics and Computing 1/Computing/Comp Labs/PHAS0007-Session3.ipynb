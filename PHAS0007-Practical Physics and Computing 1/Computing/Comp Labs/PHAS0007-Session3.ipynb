{
 "cells": [
  {
   "cell_type": "markdown",
   "metadata": {},
   "source": [
    "# PHAS0007 Session 3: \n",
    "# Jupyter Notebooks / lists and arrays\n",
    "\n",
    "#### Louise Dash louise.dash@ucl.ac.uk, updated 11.10.2018"
   ]
  },
  {
   "cell_type": "markdown",
   "metadata": {},
   "source": [
    "This session covers two important but unrelated topics - Jupyter Notebooks, which are a useful document format for combining code and text, and Python lists and arrays."
   ]
  },
  {
   "cell_type": "markdown",
   "metadata": {},
   "source": [
    "## Contents\n",
    "This notebook has two sections. Here are some quick links between them.\n",
    "\n",
    "* [1. Part A: An introduction to Jupyter Notebooks](#introduction)\n",
    "* [2. Part B: Lists and NumPy arrays](#arrays)"
   ]
  },
  {
   "cell_type": "markdown",
   "metadata": {},
   "source": [
    "#  <a id=\"introduction\"></a>Part A: An introduction to Jupyter Notebooks"
   ]
  },
  {
   "cell_type": "markdown",
   "metadata": {},
   "source": [
    "Until now, we've interacted with Python in two ways:\n",
    "\n",
    "* By using the interactive Python console in Spyder\n",
    "* By using the code editor in Spyder to write complete codes\n",
    "\n",
    "There is a third way we are now going to introduce, and which I hope you will find particularly useful in other areas of your studies - the Jupyter Notebook. They're called Jupyter notebooks as they can be used with different programming languages like <font color = \"992222\">Ju</font>lia and <font color = \"992222\">R</font>, as well as I<font color = \"992222\">Py</font>thon, but we'll only be using them with Python. You'll also see them referred to by their original name of IPython Notebooks.\n",
    "\n",
    "In fact, this document, and the scripts for the first two sessions, are Jupyter/IPython Notebooks, but so far we've only looked at static versions of them. Now we are going to unleash their full power, and use them interactively.\n",
    "\n",
    "If you haven't already, watch the screencast on how to open up Jupyter Notebooks in Anaconda on Desktop@UCL. Remember, they can't be opened by double-clicking, only from the Jupyter Notebook browser interface (at the time of writing this - if you double-click on an .ipynb file in Desktop@UCL it will open in a very out-of-date Python distribution - please don't use this! ISD have been asked to fix this).\n",
    "\n",
    "Then:\n",
    "\n",
    "* Create a new folder somewhere on your N: drive and name it appropriately\n",
    "* Download the Jupyter Notebook version of this document (with file extension .ipynb) and put it in the new directory\n",
    "* Open up Jupyter Notebook from the start menu, use the browser interface to navigate to your folder, and open the notebook (you may then want to close the old, static, pdf version of the notebook to avoid confusion between them)."
   ]
  },
  {
   "cell_type": "markdown",
   "metadata": {},
   "source": [
    "A Jupyter Notebook consists of *cells*. Single click on this paragraph of text and a box will appear around it - everything within this box is in the same cell. There are two basic types of cells:"
   ]
  },
  {
   "cell_type": "markdown",
   "metadata": {},
   "source": [
    "### Code cells "
   ]
  },
  {
   "cell_type": "markdown",
   "metadata": {},
   "source": [
    "Code cells contain bits of Python code. You can edit these cells by clicking on them. To run code cells, click on the cell so there's a box around it, and press `SHIFT+ENTER`. Any output the cell generates will be output directly underneath the cell."
   ]
  },
  {
   "cell_type": "code",
   "execution_count": null,
   "metadata": {},
   "outputs": [],
   "source": [
    "# This is a comment within a code cell\n",
    "print(\"This is a code cell\")\n",
    "print(\"Press SHIFT+ENTER to execute it and produce this text as output\")"
   ]
  },
  {
   "cell_type": "code",
   "execution_count": null,
   "metadata": {
    "collapsed": true
   },
   "outputs": [],
   "source": [
    "# This is a comment within another code cell\n",
    "x = 5\n",
    "y = 4.2\n",
    "# this cell does not generate any output, but still runs when you press shift+enter"
   ]
  },
  {
   "cell_type": "markdown",
   "metadata": {},
   "source": [
    "### Text cells"
   ]
  },
  {
   "cell_type": "markdown",
   "metadata": {},
   "source": [
    "Text cells contain text (and sometimes maths). To edit these cells you double click on them (try double clicking on this cell!). The font will change and you'll be able to edit the text. These cells are actually written in Markdown, which is a markup language (a bit like a very simple version of HTML). We'll come on to how to produce equations in a moment."
   ]
  },
  {
   "cell_type": "markdown",
   "metadata": {},
   "source": [
    "## Other stuff you need to know"
   ]
  },
  {
   "cell_type": "markdown",
   "metadata": {},
   "source": [
    "* Jupyter notebooks get saved automatically every so often. To save them manually, click on the disk icon in the top left corner.\n",
    "* However, they don't always act exactly like other documents - in particular (and this can trip you up), there's only very limited \"undo\" (CTRL-Z) functionality. In general, CTRL-Z will work to undo what you've done in the current cell, but once you move to a different cell you won't be able to undo any further changes.\n",
    "\n",
    "\n",
    "\n",
    "* The other icons in the row at the top let you (in order):\n",
    " - Add a new cell below the current one\n",
    " - Cut the current cell\n",
    " - Copy the current cell\n",
    " - Paste from the clipboard\n",
    " - Move the current cell up\n",
    " - Move the current cell down\n",
    " - Run the current cell (as an alternative to shift+enter)\n",
    " - Stop/interrupt running the current cell\n",
    " - Restart the kernel\n",
    " \n",
    "* Restarting the kernel will clear all the variables from memory, and when you re-run cells they will be numbered starting from [1]. It's a good idea to do this every so often, as you may run into problems if you define a variable, then delete it, but continue to refer to it somewhere else in your code.\n",
    " \n",
    "* The dropdown menu lets you change the type of the current cell between Markdown (i.e. text) and code."
   ]
  },
  {
   "cell_type": "markdown",
   "metadata": {},
   "source": [
    "There is some rudimentary text formatting available - just the basics.\n",
    "\n",
    "For **bold text** enclose the text in double asterisks\n",
    "\n",
    "For _italic text_ enclose the text with underscores, or with single asterisks *like this*\n",
    "\n",
    "Double click on this cell to see exactly how to do this. If you want to know how to format bullet lists like in the cell above, double click on that one too.\n",
    "\n",
    "You can also include section headings by starting a line in a text cell with one or more # characters. To see this, double click on any text cell with a section heading."
   ]
  },
  {
   "cell_type": "markdown",
   "metadata": {},
   "source": [
    "### Help functionality\n",
    "\n",
    "You'll notice the \"Help\" drop-down menu at the top of the screen - take a few minutes to explore here, especially the \"User Interface Tour\". \n",
    "\n",
    "One of the particularly helpful features of Jupyter is the way you can get help for a function. For example, place your cursor somewhere on the `abs()` function in the code cell below, and press SHIFT+TAB - you will see a documentation window pop up which gives you information about how to use that function and what it will output. "
   ]
  },
  {
   "cell_type": "code",
   "execution_count": null,
   "metadata": {},
   "outputs": [],
   "source": [
    "abs(-2.5j + 3) # press SHIFT+TAB with your cursor somewhere on the abs function to get help"
   ]
  },
  {
   "cell_type": "markdown",
   "metadata": {},
   "source": [
    "Another way to get help is to precede the function name with a question mark (?), like in the cell below:"
   ]
  },
  {
   "cell_type": "code",
   "execution_count": null,
   "metadata": {
    "collapsed": true
   },
   "outputs": [],
   "source": [
    "?print() # Run this cell to open a documentation pane"
   ]
  },
  {
   "cell_type": "markdown",
   "metadata": {},
   "source": [
    "Running this cell (SHIFT+ENTER) will open a pane with the documentation for the function at the bottom of your window."
   ]
  },
  {
   "cell_type": "markdown",
   "metadata": {},
   "source": [
    "## Writing maths"
   ]
  },
  {
   "cell_type": "markdown",
   "metadata": {},
   "source": [
    "It's useful to know how to write maths as well. Jupyter notebooks use LaTeX markup (pronounced Lay-Tech, not like rubber) which is either a particularly beautiful and elegant markup language for typesetting both maths and everything else (for all right-thinking people) or a form of torture that should be outlawed under the Geneva convention (for the not-yet-enlightened). You can find more information on LaTeX here: http://en.wikipedia.org/wiki/LaTeX\n",
    "\n",
    "For our purposes, we won't need to do anything particularly complicated  and you only need to know the very basics, which are fairly intuitive, so there will be no torture involved.\n"
   ]
  },
  {
   "cell_type": "markdown",
   "metadata": {},
   "source": [
    "### Basics"
   ]
  },
  {
   "cell_type": "markdown",
   "metadata": {},
   "source": [
    "Double click on this cell, or on any other cell with maths in it, and you will be able to see exactly how it was generated. Here is a brief summary of the basics:\n",
    "\n",
    "* to switch to math formatting within a paragraph, like this $x = 2y^3$, enclose the maths in dollar signs.\n",
    "\n",
    "* to format an equation on a separate line, enclose it in double dollar signs, like this:\n",
    "\n",
    "$$ x = 2y^3$$\n",
    "\n",
    "* Most greek letters are prefixed with a backslash followed by the name of the letter, eg \\alpha, \\beta, \\gamma, \\delta becomes $\\alpha, \\beta, \\gamma, \\delta$ when enclosed in dollar signs.\n",
    "\n",
    "* Subscripts use an underline character, superscripts use ^.  For example $x_0 = y^2, x_1 = \\alpha^2$\n",
    "\n",
    "* Common functions like sin, cos, exp, are also prefixed by a backslash. For example \n",
    "\n",
    "$$\\exp(5 \\alpha) = \\sin(2 \\pi x)$$\n",
    "\n",
    "For most purposes in this course, you'll frequently be able to copy and paste an equation from the session script (itself an Jupyter notebook, so don't worry about being expected to know more than this. In case you find it useful, there are also websites like http://www.codecogs.com/latex/eqneditor.php which let you pick maths symbols from a palette and convert them to LaTeX code. "
   ]
  },
  {
   "cell_type": "markdown",
   "metadata": {},
   "source": [
    "### When to use text cells and when to use # comments\n",
    "\n",
    "Sometimes it's not obvious when it's best to use text cells in your own notebooks and when to use # code comments. A good general rule of thumb is:\n",
    "####  If you're describing something about the physics or maths of the problem you're solving:\n",
    "* Use a text cell\n",
    "\n",
    "#### If you're describing something about the Python code you're writing:\n",
    "* Use a # comment in the code cell.\n"
   ]
  },
  {
   "cell_type": "markdown",
   "metadata": {},
   "source": [
    "### Using Jupyter notebooks elsewhere in your courses"
   ]
  },
  {
   "cell_type": "markdown",
   "metadata": {},
   "source": [
    "Jupyter notebooks are relatively new technology, and are being used more and more as people realise how useful they are - I hope that you too will find them useful beyond PHAS0007, whether just for making notes, or doing quick calculations and solving problems numerically.\n"
   ]
  },
  {
   "cell_type": "markdown",
   "metadata": {},
   "source": [
    "We'll now move on to the second part of this session, on Python lists and Numpy arrays.  This has no particular relation to Jupyter notebooks other than it is a convenient point in the course to introduce both topics. Everything you will see here works both in Jupyter notebooks and in Spyder (or any other code editor). For this session, however, you need to produce and submit an Jupyter Notebook."
   ]
  },
  {
   "cell_type": "markdown",
   "metadata": {},
   "source": [
    "#  <a id=\"arrays\"></a>Part B: Lists and NumPy arrays (and tuples)"
   ]
  },
  {
   "cell_type": "markdown",
   "metadata": {},
   "source": [
    "<div class=\"alert alert-success\">\n",
    "By the end of this section, you should: \n",
    "<ul>\n",
    "    <li> Understand what Python lists and Numpy arrays are, and the differences between them; </li>\n",
    "    <li> Understand how to manipulate Numpy arrays with basic mathematical operations </li>\n",
    "    <li> Understand how to reference different parts of a list or array.</li>\n",
    "</ul>\n",
    "<div/>"
   ]
  },
  {
   "cell_type": "markdown",
   "metadata": {},
   "source": [
    "We already have variables as a way of storing single values in Python. But in Physics we often have more than one number associated with an object, for example, a cartesian vector with $x$, $y$, and $z$ components: $$ \\mathbf{r} = (r_x, r_y, r_z).$$\n",
    "\n",
    "We could create three variables rx, ry, rz  to describe this vector, but this would be quite inefficient. This is even clearer when we consider bigger objects: imagine in a lab experiment we've collected a set of data for voltage and current measurements, like this:\n",
    "\n",
    "| V(V)|I(mA) | \n",
    "|:---:|:----:|\n",
    "| 1.0 |  2.0 |\n",
    "| 2.0 |  4.1 | \n",
    "| 3.0 |  5.9 |\n",
    "| 4.0 | 8.0  |\n",
    "| 5.0 | 10.2 |\n",
    "\n",
    "Clearly we don't want to create ten variables v1, i1, v2, i2, v3, etc to describe this data set. And what if we had a data set with hundreds, or even thousands of data points?\n",
    "\n",
    "Fortunately Python has data structures that can contain lots of elements. There are three basic types:\n",
    "\n",
    "* Lists\n",
    "* Tuples\n",
    "* Arrays\n",
    "\n",
    "Of these, the most useful for our purposes will be arrays, but to see why, we'll first look at lists (we won't cover tuples at all in this course, but you should be aware that they exist.)"
   ]
  },
  {
   "cell_type": "markdown",
   "metadata": {},
   "source": [
    "## Lists"
   ]
  },
  {
   "cell_type": "markdown",
   "metadata": {},
   "source": [
    "<div class=\"alert alert-success\">\n",
    "In this notebook, you'll need to use **`Shift`**+**`Enter`** in each of the code cells, and make sure you understand any output before proceeding.\n",
    "</div>\n",
    "\n",
    "A python list is just a \"container\" for several objects - here is an example:\n",
    "\n"
   ]
  },
  {
   "cell_type": "code",
   "execution_count": null,
   "metadata": {
    "collapsed": true
   },
   "outputs": [],
   "source": [
    "my_list = [1, 5.0, 3.4, \"apples\", 2.3+0.2j, \"bananas\"]"
   ]
  },
  {
   "cell_type": "markdown",
   "metadata": {},
   "source": [
    "Note the following characteristics:\n",
    "\n",
    "* The list is enclosed by square brackets [ ]\n",
    "* The list items are separated by commas\n",
    "* The list can contain a mix of different data types (here we have integers, floats, strings and complex all in the same list)\n",
    "\n",
    "Now consider some lists that are probably more like ones we'd need to use for doing physics - lists of numbers."
   ]
  },
  {
   "cell_type": "code",
   "execution_count": null,
   "metadata": {
    "collapsed": true
   },
   "outputs": [],
   "source": [
    "a_list = [1, 2, 3, 4 ]\n",
    "b_list = [5, 6, 7, 8 ]"
   ]
  },
  {
   "cell_type": "code",
   "execution_count": null,
   "metadata": {},
   "outputs": [],
   "source": [
    "a_list"
   ]
  },
  {
   "cell_type": "code",
   "execution_count": null,
   "metadata": {},
   "outputs": [],
   "source": [
    "b_list"
   ]
  },
  {
   "cell_type": "markdown",
   "metadata": {},
   "source": [
    "What happens if we try and add these two lists together?"
   ]
  },
  {
   "cell_type": "code",
   "execution_count": null,
   "metadata": {},
   "outputs": [],
   "source": [
    "z_list = a_list + b_list\n",
    "z_list"
   ]
  },
  {
   "cell_type": "markdown",
   "metadata": {},
   "source": [
    "Is this what you might have expected (or hoped for)? \n",
    "\n",
    "Python concatenates the two lists, rather than performing arithmetic addition. This can be useful for data handling, but less useful for doing maths.\n",
    "\n",
    "Fortunately, we also have the Numpy array:"
   ]
  },
  {
   "cell_type": "markdown",
   "metadata": {},
   "source": [
    "## Arrays "
   ]
  },
  {
   "cell_type": "markdown",
   "metadata": {},
   "source": [
    "(For a full discussion of NumPy arrays that goes way beyond what we'll be covering in PHAS0007, see [Christian Hill \"Learning Scientific Programming with Python\" Chapter 6 (p184ff)](http://sfx.ucl.ac.uk/sfx_local?ctx_ver=Z39.88-2004&ctx_enc=info:ofi/enc:UTF-8&ctx_tim=2016-07-18T13%3A15%3A47IST&url_ver=Z39.88-2004&url_ctx_fmt=infofi/fmt:kev:mtx:ctx&rfr_id=info:sid/primo.exlibrisgroup.com:primo3-Journal-UCL_LMS_DS&rft_val_fmt=info:ofi/fmt:kev:mtx:book&rft.genre=book&rft.atitle=&rft.jtitle=&rft.btitle=Learning%20scientific%20programming%20with%20Python&rft.aulast=Hill&rft.auinit=&rft.auinit1=&rft.auinitm=&rft.ausuffix=&rft.au=Hill,%20Christian,%201974-,%20author&rft.aucorp=&rft.volume=&rft.issue=&rft.part=&rft.quarter=&rft.ssn=&rft.spage=&rft.epage=&rft.pages=&rft.artnum=&rft.issn=&rft.eissn=&rft.isbn=9781107075412&rft.sici=&rft.coden=&rft_id=info:doi/&rft.object_id=&rft.856_url=&rft_dat=%3CUCL_LMS_DS%3E002240476%3C/UCL_LMS_DS%3E&rft.eisbn=&rft_id=info:oai/&req.language=eng) )\n",
    " \n",
    "To use arrays we need to use the NumPy (numerical python) module. As before, we'll need to import NumPy, and we'll follow best practice (as always!) and import all of numpy and then prefix each numpy function with the abbreviation `np`."
   ]
  },
  {
   "cell_type": "code",
   "execution_count": null,
   "metadata": {
    "collapsed": true
   },
   "outputs": [],
   "source": [
    " import numpy as np"
   ]
  },
  {
   "cell_type": "markdown",
   "metadata": {},
   "source": [
    "Now let's convert our lists into numpy arrays to see the difference - note how we do this using the `np.array()` function."
   ]
  },
  {
   "cell_type": "code",
   "execution_count": null,
   "metadata": {},
   "outputs": [],
   "source": [
    "array_a = np.array(a_list) # convert the list called a_list to an array called array_a\n",
    "array_b = np.array(b_list)\n",
    "array_z = array_a + array_b\n",
    "array_z"
   ]
  },
  {
   "cell_type": "markdown",
   "metadata": {},
   "source": [
    "Now it adds the two arrays element-wise, which is what we wanted! "
   ]
  },
  {
   "cell_type": "markdown",
   "metadata": {},
   "source": [
    "### <a id=\"create_arrays\"></a>Other ways to create arrays\n",
    "\n",
    "There are various ways of creating Numpy arrays. We've already seen the np.array() function above, which converts a list to an array. Others are particularly useful:\n",
    "\n",
    "* **create an array with a specified number of evenly-spaced points**: Use `np.linspace()`"
   ]
  },
  {
   "cell_type": "code",
   "execution_count": null,
   "metadata": {},
   "outputs": [],
   "source": [
    "np.linspace(0,10,5)"
   ]
  },
  {
   "cell_type": "markdown",
   "metadata": {},
   "source": [
    "This creates an array which starts at the first number (here 0), finishes at the second number (here 10), using the third number as the number of points - so here we have 5 points starting at 0 and finishing at 10. \n",
    "\n",
    "* **Create an array with a specified distance between points** Use `np.arange()`. This is almost the same as linspace, the difference is subtle, look at this"
   ]
  },
  {
   "cell_type": "code",
   "execution_count": null,
   "metadata": {},
   "outputs": [],
   "source": [
    "np.arange(0,10,1.0)"
   ]
  },
  {
   "cell_type": "markdown",
   "metadata": {},
   "source": [
    "The first number gives the starting point, as for `np.linspace()`. The final number gives the step between the points in the array, in this case 1.0. The second number gives the stopping point, but note that this is *not included* in the final array - in this case the array stops at 9.0.\n",
    "\n",
    "* **Create an array full of zeros or ones** These are quite intuitive. By default, the array contains floating point numbers, but you can specify others if you want:"
   ]
  },
  {
   "cell_type": "code",
   "execution_count": null,
   "metadata": {},
   "outputs": [],
   "source": [
    "np.zeros(6) # create an array of six zeros "
   ]
  },
  {
   "cell_type": "code",
   "execution_count": null,
   "metadata": {},
   "outputs": [],
   "source": [
    "np.ones(8) # create an array of 8 (floating point) ones"
   ]
  },
  {
   "cell_type": "code",
   "execution_count": null,
   "metadata": {},
   "outputs": [],
   "source": [
    "np.ones(8,int) # create an array of 8 (integer) ones"
   ]
  },
  {
   "cell_type": "code",
   "execution_count": null,
   "metadata": {},
   "outputs": [],
   "source": [
    "np.ones(4, complex) # create an array of complex ones."
   ]
  },
  {
   "cell_type": "markdown",
   "metadata": {},
   "source": [
    "* ** Create an \"empty\" array** You can do this using the function `np.empty()`. In fact, the array isn't really empty, but will contain whatever value happens to be already in the memory location Python allocates for the array. Again, this array will be floating point by default:"
   ]
  },
  {
   "cell_type": "code",
   "execution_count": null,
   "metadata": {},
   "outputs": [],
   "source": [
    "np.empty(4)"
   ]
  },
  {
   "cell_type": "markdown",
   "metadata": {},
   "source": [
    "* **Reading in an array from a file** Importing an array from a data file is really useful, especially in the lab. There are several ways to do this, but we'll stick with the easiest and most general way, which is to use `np.loadtxt()` function. Look at this command, which will import the data from the file called \"samplefile.txt\" and put it in an array called mydata:"
   ]
  },
  {
   "cell_type": "code",
   "execution_count": null,
   "metadata": {},
   "outputs": [],
   "source": [
    "mydata = np.loadtxt(\"samplefile.txt\")"
   ]
  },
  {
   "cell_type": "markdown",
   "metadata": {},
   "source": [
    "Of course, this will only work if you actually have a file called `samplefile.txt` in the same directory as your notebook! Otherwise you'll just end up with an error message, like you probably did above. In this case, download the file called \"samplefile.txt\" from Moodle and retry it."
   ]
  },
  {
   "cell_type": "code",
   "execution_count": null,
   "metadata": {},
   "outputs": [],
   "source": [
    "print(mydata)"
   ]
  },
  {
   "cell_type": "markdown",
   "metadata": {},
   "source": [
    "If that worked, you should see that the array \"mydata\" contains the same numbers as the file samplefile.txt - Make sure by looking at the file itself. To view the file you can either:\n",
    "* Click on the filename in the Jupyter Notebook browser directory tab; or\n",
    "* Open the .txt file in Notepad (or any other program that can read plain text files)."
   ]
  },
  {
   "cell_type": "markdown",
   "metadata": {},
   "source": [
    "## Referring to parts of arrays\n",
    "\n",
    "We often want to use just one element of an array, or a specified part of it, rather than the whole thing. How can we do this?\n",
    "\n",
    "First, let's create an array to play around with:\n"
   ]
  },
  {
   "cell_type": "code",
   "execution_count": null,
   "metadata": {},
   "outputs": [],
   "source": [
    "a = np.linspace(-3.0, 4.0, 9)\n",
    "print(a)"
   ]
  },
  {
   "cell_type": "markdown",
   "metadata": {},
   "source": [
    "What if we want to do something just to the first element of the array - how do we refer to just the first element? You might think about trying something like this:"
   ]
  },
  {
   "cell_type": "code",
   "execution_count": null,
   "metadata": {},
   "outputs": [],
   "source": [
    "a[1] # use square brackets to refer to an element of an array."
   ]
  },
  {
   "cell_type": "markdown",
   "metadata": {},
   "source": [
    "But this isn't the first element of the array - it is the second!\n",
    "\n",
    "This is because Python is one of the computer languages that start counting at zero, not at one. In order to get the first element of the array, we need to use:"
   ]
  },
  {
   "cell_type": "code",
   "execution_count": null,
   "metadata": {},
   "outputs": [],
   "source": [
    "a[0]"
   ]
  },
  {
   "cell_type": "markdown",
   "metadata": {},
   "source": [
    "Now we have the first element. This is something else that can easily catch you out if you're not used to it. Similarly the final element of our array is not <tt>a[9]</tt>, it is <tt>a[8]</tt>.\n",
    "\n",
    "Another way of referencing the last element of an array is using <tt>a[-1]</tt>. The penultimate element is <tt>a[-2]</tt>, and so on."
   ]
  },
  {
   "cell_type": "markdown",
   "metadata": {},
   "source": [
    "### Slicing arrays\n",
    "\n",
    "\"Slicing\" an array to reference a subset of the data is often useful. Look at the following:"
   ]
  },
  {
   "cell_type": "code",
   "execution_count": null,
   "metadata": {},
   "outputs": [],
   "source": [
    "a[1:3]"
   ]
  },
  {
   "cell_type": "markdown",
   "metadata": {},
   "source": [
    "This returns all elements from #1 up to but _not including_ #3"
   ]
  },
  {
   "cell_type": "code",
   "execution_count": null,
   "metadata": {},
   "outputs": [],
   "source": [
    "a[3:]"
   ]
  },
  {
   "cell_type": "markdown",
   "metadata": {},
   "source": [
    "This returns all elements from #3 (i.e. the fourth element) to the end of the array"
   ]
  },
  {
   "cell_type": "code",
   "execution_count": null,
   "metadata": {},
   "outputs": [],
   "source": [
    "a[:2]"
   ]
  },
  {
   "cell_type": "markdown",
   "metadata": {},
   "source": [
    "This returns all elements from the beginning of the array up to but not including #2"
   ]
  },
  {
   "cell_type": "code",
   "execution_count": null,
   "metadata": {},
   "outputs": [],
   "source": [
    "a[:]"
   ]
  },
  {
   "cell_type": "markdown",
   "metadata": {},
   "source": [
    "This returns all elements of the array.\n",
    "Slicing is even more useful when we're looking at 2-dimensional arrays (which are usually used to represent matrices), but we will not cover this in this course. However, matrix manipulations are really important in physics, especially in quantum mechanics, and we'll look at those in much more depth next year."
   ]
  },
  {
   "cell_type": "markdown",
   "metadata": {},
   "source": [
    "# Your task\n",
    "\n",
    "Your task for today is to create a new Jupyter Notebook. Change the title of your notebook to \"Yourname-session3\".\n",
    "\n",
    "In the notebook, do the following, and use **text cells** to include a commentary (using complete sentences) explaining what each code cell (or group of cells) does. As a guideline, you should aim to give roughly the same ratio of text to code as you see in this notebook. You should ensure that your notebook has appropriate section headers, and a brief introductory paragraph at the beginning.\n",
    "\n",
    "\n",
    "## *Part 1:*\n",
    "1. `np.array([0,5,10])` will create an array of **_integers_** starting at 0, finishing at 10, with interval 5. Use a different command to create the same array automatically (i.e. choose an appropriate function from the list given in the [\"Other ways to create arrays\"](#create_arrays) section)\n",
    "2. Create (automatically, not using np.array!) another array that contains 3 equally-spaced floating point numbers starting at 2.5 and finishing at 3.5.\n",
    "3. Use the multiplication operator `*` to multiply the two arrays together\n",
    "4. Use your awesome google skills to find numpy functions that will find the dot product and the cross product of these two arrays. Use a text cell to comment on the differences between this and using the `*` operator.\n",
    "5. We met the \"`while`\" loop last week, and mentioned the \"`for`\" loop. This is an example of a \"`for`\" loop:"
   ]
  },
  {
   "cell_type": "code",
   "execution_count": null,
   "metadata": {},
   "outputs": [],
   "source": [
    "r = np.linspace(1, 2.5, 5)\n",
    "print(r)\n",
    "for n in r:\n",
    "    print(\"n is \", n)\n",
    "    print(\"n*3 is \", n*3)\n",
    "print(\"Finished\")"
   ]
  },
  {
   "cell_type": "markdown",
   "metadata": {},
   "source": [
    "Copy and paste this cell into your Notebook, run it, and use the results to explain how a `for` loop works - use both a text cell and some # comments for this."
   ]
  },
  {
   "cell_type": "markdown",
   "metadata": {},
   "source": [
    "## *Part 2:*\n",
    "1. Download the file \"session3data.txt\" from Moodle and save it in the same directory as your Notebook. Import the data from this file into an array using `np.loadtxt()` - choose your own (sensible) variable name for this array.\n",
    "2. Manipulate this array using the following commands. Use a different code cell for each, and (obviously) replace \"yourarray\" with the variable name for your array. Explain what each command does in text cells, using complete sentences.\n",
    "     1. `np.sin(yourarray)`\n",
    "     2. `np.size(yourarray)`\n",
    "     3. `len(yourarray)`\n",
    "     4. `np.max(yourarray)`\n",
    "     5. `np.min(yourarray)`\n",
    "     6. `np.sum(yourarray)`\n",
    "     7. `np.mean(yourarray)`. \n",
    "     8. Find another way of calculating the the mean.\n",
    "3. Use array slicing to find:\n",
    "     1. the sum of the first ten elements of the array\n",
    "     2. the arithmetic mean of the last 5 elements of the array\n",
    "     \n",
    "Make sure you're happy with the balance of text and code in your notebook. You should ensure that your notebook has appropriate section headers, and a brief introductory paragraph at the beginning.\n",
    "\n",
    "You're also **_strongly_** advised to restart the kernel of your Notebook, and rerun all the code cells in order to check that everything is working as it should. \n",
    "\n",
    "Once you're happy with your notebook, upload it via Moodle in the usual way."
   ]
  },
  {
   "cell_type": "code",
   "execution_count": null,
   "metadata": {
    "collapsed": true
   },
   "outputs": [],
   "source": []
  }
 ],
 "metadata": {
  "anaconda-cloud": {},
  "kernelspec": {
   "display_name": "Python 3",
   "language": "python",
   "name": "python3"
  },
  "language_info": {
   "codemirror_mode": {
    "name": "ipython",
    "version": 3
   },
   "file_extension": ".py",
   "mimetype": "text/x-python",
   "name": "python",
   "nbconvert_exporter": "python",
   "pygments_lexer": "ipython3",
   "version": "3.6.5"
  }
 },
 "nbformat": 4,
 "nbformat_minor": 1
}
