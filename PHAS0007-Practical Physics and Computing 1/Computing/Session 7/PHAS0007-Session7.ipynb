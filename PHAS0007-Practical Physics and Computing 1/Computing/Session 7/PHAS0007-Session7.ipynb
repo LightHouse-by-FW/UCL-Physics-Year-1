{
 "cells": [
  {
   "cell_type": "markdown",
   "metadata": {
    "collapsed": true
   },
   "source": [
    "# Session 7: Introduction to VPython \n",
    "\n",
    "#### Louise Dash (last revision 15.11.2018)"
   ]
  },
  {
   "cell_type": "markdown",
   "metadata": {},
   "source": [
    "In this session we're going to introduce Vpython (short for visual python) which is designed to visualize three-dimensional systems. This makes it particularly useful for physics applications. \n",
    "\n",
    "We're going to be using Vpython within Jupyter Notebooks, although it's also possible to use it as stand-alone code. \n",
    "\n",
    "<div class=\"alert alert-info\">\n",
    "<b>IMPORTANT: Please see the information on Moodle about running this and other vpython notebooks on Desktop@UCL</b>\n",
    "</div>\n",
    "\n",
    "\n",
    "**Check the the kernel type (at the top right of the window). It may say \"VPython\" - if so, you are advised to use the \"Change kernel\" option under the \"Kernel\" menu above to change it back to Python 3 (because otherwise some unwanted functions are automatically imported, which can affect how your code runs).**\n",
    "\n",
    "We'll start, as always, by importing the Python modules we'll need. As well as numpy, we'll import the vpython functions we'll be using in this notebook, as in the cell below. We'll introduce what each of these functions does in turn as we come to them."
   ]
  },
  {
   "cell_type": "code",
   "execution_count": null,
   "metadata": {},
   "outputs": [],
   "source": [
    "import numpy as np\n",
    "from vpython import canvas, vector, color, sphere, arrow"
   ]
  },
  {
   "cell_type": "markdown",
   "metadata": {},
   "source": [
    "The cell below contains two of the vpython functions. The first creates a blank canvas for vpython to draw objects on, while the second will draw a sphere on the canvas."
   ]
  },
  {
   "cell_type": "code",
   "execution_count": null,
   "metadata": {},
   "outputs": [],
   "source": [
    "canvas() # creates a new vpython canvas for this cell.\n",
    "\n",
    "sphere() # this will draw a sphere."
   ]
  },
  {
   "cell_type": "markdown",
   "metadata": {},
   "source": [
    "Any vpython object has certain attributes, which we can leave at their default values, or change to whatever we want, like in the cell below:"
   ]
  },
  {
   "cell_type": "code",
   "execution_count": null,
   "metadata": {},
   "outputs": [],
   "source": [
    "canvas()\n",
    "\n",
    "# draw a green sphere\n",
    "sphere(pos=vector(-1,1,0),radius= 0.75,color=color.green)"
   ]
  },
  {
   "cell_type": "markdown",
   "metadata": {},
   "source": [
    "Here we've changed the colour to green (although note the US English spelling `color`!), moved the centre of the sphere from the origin to coordinates $(x=-1,y=+1,z=0)$ in the canvas coordinate system, and changed the radius of the sphere to 0.75.\n",
    "\n",
    "Note: \n",
    "* The coordinate system has the x-axis pointing right, the y-axis pointing up, and the z axis pointing out of the screen towards you.\n",
    "* The position is specified with using the format `vector(xposn, yposn, zposn)`.\n",
    "\n",
    "For a full list of all the attributes of a vpython sphere, see here: http://www.glowscript.org/docs/VPythonDocs/sphere.html\n",
    "\n",
    "You can rotate the camera position (viewpoint) of the 3D canvas by holding down the right mouse button, and zoom in/out with the mouse wheel."
   ]
  },
  {
   "cell_type": "markdown",
   "metadata": {},
   "source": [
    "We can also assign variable names to our objects. This makes it easy to manipulate the attributes of our objects. For example, the code cell below will create a new sphere named `ball`, and then extract some of the attributes and output them. Note how we use the format \n",
    "\n",
    "       objectname.objectattribute\n",
    "       \n",
    "to do this, for example `ball.pos` is the 3D position vector of the sphere, while `ball.pos.x` is the x-component of the position vector.\n",
    "\n"
   ]
  },
  {
   "cell_type": "code",
   "execution_count": null,
   "metadata": {},
   "outputs": [],
   "source": [
    "canvas() \n",
    "\n",
    "# create a sphere object with variable name ball\n",
    "ball = sphere(pos=vector(-1,1,0),radius= 0.75,color=color.magenta)\n",
    "\n",
    "# output some of the attributes\n",
    "print(\"The object named 'ball' has a position vector \", ball.pos)\n",
    "print(\"The object named 'ball' has an x-position value of \", ball.pos.x)\n",
    "print(\"The radius of ball  is \", ball.radius)"
   ]
  },
  {
   "cell_type": "markdown",
   "metadata": {},
   "source": [
    "We can update any of the attributes we like. For example, run the cell below."
   ]
  },
  {
   "cell_type": "code",
   "execution_count": null,
   "metadata": {},
   "outputs": [],
   "source": [
    "canvas() \n",
    "\n",
    "ball.color = color.red # change the colour of the ball object to red.\n",
    "\n",
    "# output some of the attributes\n",
    "print(\"The object named 'ball' has a position vector \", ball.pos)\n",
    "print(\"The object named 'ball' has an x-position value of \", ball.pos.x)\n",
    "print(\"The radius of ball  is \", ball.radius)"
   ]
  },
  {
   "cell_type": "markdown",
   "metadata": {},
   "source": [
    "Did you see what happened? The ball's colour changed - but in the canvas that the ball is attached to. (In fact the `canvas()` in the cell above is unnecessary - try commenting it out, and changing `ball.color` to what ever you fancy, and rerunning the cell. You can find information on possible colours here:  http://www.glowscript.org/docs/VPythonDocs/color.html)"
   ]
  },
  {
   "cell_type": "markdown",
   "metadata": {},
   "source": [
    "The `arrow()` object is also very useful - it can be used to represent a vector, for example the vector between the positions of two spheres, as in the example below.\n",
    "\n",
    "Here `pos` is the starting point of the arrow, with `axis` the 3d vector connecting the starting point with the end point. "
   ]
  },
  {
   "cell_type": "code",
   "execution_count": null,
   "metadata": {},
   "outputs": [],
   "source": [
    "canvas()\n",
    "ball1 = sphere(pos=vector(0,0,0),radius = 0.1,color=color.orange)\n",
    "ball2 = sphere(pos=vector(1,1,1),radius = 0.1,color=color.blue)\n",
    "vec = arrow(pos= ball1.pos, axis = (ball2.pos - ball1.pos), shaftwidth= 0.05, color=color.cyan) # arrow to represent vector"
   ]
  },
  {
   "cell_type": "markdown",
   "metadata": {},
   "source": [
    "Equivalently, we could have used \n",
    "\n",
    "                arrow(pos=vector(0,0,0), axis=vector(1,1,1) ...\n",
    "             \n",
    "\n",
    "instead. In this case either is fine, but hopefully you can see that if one or more of the objects is going to change position (which we will be doing next week!) it may be more convenient to refer to the object attributes rather than hard-coding in the numbers representing the positions. If the objects are static, meanwhile, it may be easier just to use their known positions.\n",
    "\n",
    "You can find full documentation of the `arrow()` function at http://www.glowscript.org/docs/VPythonDocs/arrow.html."
   ]
  },
  {
   "cell_type": "markdown",
   "metadata": {},
   "source": [
    "## Application: Modelling crystal structures in 3D\n",
    "\n",
    "To finish, we'll look at a more complicated example to create a physical model.\n",
    "\n",
    "The code below will draw a three-dimensional grid of spheres on the screen, which you can then rotate using the right mouse button."
   ]
  },
  {
   "cell_type": "code",
   "execution_count": null,
   "metadata": {},
   "outputs": [],
   "source": [
    "# Simple cubic crystal structure\n",
    "canvas()   # create a new vpython \"canvas\" output for this cell \n",
    "L = 4    # number of spheres in system will be (2L + 1)^3\n",
    "size = 0.3 # size of the \"atoms\"\n",
    "# loop over each spatial dimension\n",
    "for i in range(-L, L+1):\n",
    "    for j in range(-L, L+1):\n",
    "        for k in range (-L, L+1):\n",
    "            sphere(pos=vector(i,j,k),radius=size,color=color.green) # sphere at each point on the lattice grid"
   ]
  },
  {
   "cell_type": "markdown",
   "metadata": {},
   "source": [
    "Can you see why we've set the loops to run from `-L` to `L+1` and not from 1 to `2*L`? If not - try it out to see what happens.\n",
    "\n",
    "This is actually a model of part of an infinite crystal$^*$, using spheres to represent the atoms. The three-dimensional structure of crystals is very hard to visualize from a 2-d representation, so a model you can rotate in any direction is much more useful. \n",
    "\n",
    "Try changing:\n",
    "\n",
    "* The number of \"atoms\" in the crystal\n",
    "* The size of the atoms\n",
    "* The color of the atoms\n",
    "\n",
    "This structure is known as a simple cubic structure, and is the easiest crystal structure to draw and visualise.  However, it doesn't occur much in nature, because it isn't a very efficient way of packing the atoms$^*$. \n",
    "\n",
    "($^*$ You'll learn much more about this in PHAS0006 next term and when you study solid state physics in the third year. This model shows just part of an infinite crystal - if you were to stack this model \"cell\" in each direction infinitely, you'd have an infinite, perfect crystal. A real crystal is finite, rather than extending to infinity in each direction, and will also have surface effects as well as defects and/or interfaces, which are fascinating topics in research, for example at the LCN: https://www.london-nano.com/research/themes/thin-films-surfaces-and-interfaces)\n",
    "\n",
    "In the task for this session you will adapt this code to instead draw a different crystal structure - that of Sodium Chloride. There is a template for this task on Moodle that you will complete - download it now if you haven't already."
   ]
  },
  {
   "cell_type": "code",
   "execution_count": null,
   "metadata": {},
   "outputs": [],
   "source": []
  }
 ],
 "metadata": {
  "anaconda-cloud": {},
  "kernelspec": {
   "display_name": "Python 3",
   "language": "python",
   "name": "python3"
  },
  "language_info": {
   "codemirror_mode": {
    "name": "ipython",
    "version": 3
   },
   "file_extension": ".py",
   "mimetype": "text/x-python",
   "name": "python",
   "nbconvert_exporter": "python",
   "pygments_lexer": "ipython3",
   "version": "3.6.5"
  }
 },
 "nbformat": 4,
 "nbformat_minor": 1
}
