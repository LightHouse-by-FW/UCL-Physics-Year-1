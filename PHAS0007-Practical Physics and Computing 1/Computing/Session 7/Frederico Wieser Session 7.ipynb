{
 "cells": [
  {
   "cell_type": "markdown",
   "metadata": {
    "collapsed": true
   },
   "source": [
    "# Session 7 task\n",
    "\n",
    "This is the template for the session 7 task\n",
    "\n",
    "This is a \"fill-in-the-blanks\" assignment much like session 6. Change the title and write a brief introduction here.\n",
    "\n",
    "We'll start by importing numpy and all the vpython functions we'll need to use."
   ]
  },
  {
   "cell_type": "code",
   "execution_count": 1,
   "metadata": {},
   "outputs": [
    {
     "data": {
      "application/javascript": [
       "if (typeof Jupyter !== \"undefined\") {require.undef(\"nbextensions/vpython_libraries/glow.min\");}else{element.textContent = ' ';}"
      ],
      "text/plain": [
       "<IPython.core.display.Javascript object>"
      ]
     },
     "metadata": {},
     "output_type": "display_data"
    },
    {
     "data": {
      "application/javascript": [
       "if (typeof Jupyter !== \"undefined\") {require.undef(\"nbextensions/vpython_libraries/glowcomm\");}else{element.textContent = ' ';}"
      ],
      "text/plain": [
       "<IPython.core.display.Javascript object>"
      ]
     },
     "metadata": {},
     "output_type": "display_data"
    },
    {
     "data": {
      "application/javascript": [
       "if (typeof Jupyter !== \"undefined\") {require.undef(\"nbextensions/vpython_libraries/jquery-ui.custom.min\");}else{element.textContent = ' ';}"
      ],
      "text/plain": [
       "<IPython.core.display.Javascript object>"
      ]
     },
     "metadata": {},
     "output_type": "display_data"
    },
    {
     "data": {
      "application/javascript": [
       "if (typeof Jupyter !== \"undefined\") {require([\"nbextensions/vpython_libraries/glow.min\"], function(){console.log(\"GLOW LOADED\");});}else{element.textContent = ' ';}"
      ],
      "text/plain": [
       "<IPython.core.display.Javascript object>"
      ]
     },
     "metadata": {},
     "output_type": "display_data"
    },
    {
     "data": {
      "application/javascript": [
       "if (typeof Jupyter !== \"undefined\") {require([\"nbextensions/vpython_libraries/glowcomm\"], function(){console.log(\"GLOWCOMM LOADED\");});}else{element.textContent = ' ';}"
      ],
      "text/plain": [
       "<IPython.core.display.Javascript object>"
      ]
     },
     "metadata": {},
     "output_type": "display_data"
    },
    {
     "data": {
      "application/javascript": [
       "if (typeof Jupyter !== \"undefined\") {require([\"nbextensions/vpython_libraries/jquery-ui.custom.min\"], function(){console.log(\"JQUERY LOADED\");});}else{element.textContent = ' ';}"
      ],
      "text/plain": [
       "<IPython.core.display.Javascript object>"
      ]
     },
     "metadata": {},
     "output_type": "display_data"
    },
    {
     "data": {
      "text/html": [
       "<div id=\"glowscript\" class=\"glowscript\"></div>"
      ],
      "text/plain": [
       "<IPython.core.display.HTML object>"
      ]
     },
     "metadata": {},
     "output_type": "display_data"
    },
    {
     "data": {
      "application/javascript": [
       "if (typeof Jupyter !== \"undefined\") { window.__context = { glowscript_container: $(\"#glowscript\").removeAttr(\"id\")};}else{ element.textContent = ' ';}"
      ],
      "text/plain": [
       "<IPython.core.display.Javascript object>"
      ]
     },
     "metadata": {},
     "output_type": "display_data"
    }
   ],
   "source": [
    "import numpy as np\n",
    "from vpython import sphere, color, vector, arrow, canvas"
   ]
  },
  {
   "cell_type": "markdown",
   "metadata": {},
   "source": [
    "### NaCl (rocksalt) structure\n",
    "\n",
    "Now we'll look at a Sodium Chloride crystal structure. This is also a cubic crystal structure, but now the atoms are arranged so that they alternate in each plane, like this:\n",
    "https://commons.wikimedia.org/wiki/File:Sodium-chloride-3D-ionic.png#/media/File:Sodium-chloride-3D-ionic.png\n",
    "\n",
    "If we label the coordinates of each atom by `(i,j,k)`, as before, then for this structure we have sodium atoms where $ i + j + k $ is even, and chlorine atoms where $i + j + k$ is odd. You can find further information on these crystal structures, if you're interested: http://en.wikipedia.org/wiki/Cubic_crystal_system and https://en.wikipedia.org/wiki/Crystal_structure )\n",
    "\n",
    "Here is the code from the script that creates the model of the simple cubic structure. \n"
   ]
  },
  {
   "cell_type": "code",
   "execution_count": null,
   "metadata": {},
   "outputs": [],
   "source": [
    "canvas() #Create a new vpython \"canvas\" output for this cell \n",
    "L = 3 #Number of spheres in system will be (2L + 1)^3\n",
    "size_Cl = 0.3 #Size of the Cl(-) atoms\n",
    "size_Na = (size_Cl/0.227)*0.175 #Size of the Na(+) atoms\n",
    "color_Cl = color.green #Color of the Cl(-) atoms\n",
    "color_Na = color.purple #Color of the Na(+) atoms\n",
    "\n",
    "#Loop over each spatial dimension\n",
    "for i in range(-L, L+1):\n",
    "    for j in range(-L, L+1):\n",
    "        for k in range (-L, L+1):\n",
    "            if i == j == k == 0: #If statemnet which is testing the values of i,j, and k, to find the origin\n",
    "                sphere(pos=vector(i,j,k),radius=size_Cl,color=color.white) #Once the origin is found set the colour to white\n",
    "            elif (i+j+k) % 2 == 0 : #Elif statements which uses the remainder after dividing by 2 to tell if an atom is Sodium or Chlorine \n",
    "                sphere(pos=vector(i,j,k),radius=size_Na,color=color_Na) #If the remainder of the sum of i,j, and k, is even it's Sodium\n",
    "            elif (i+j+k) % 2 == 1 :\n",
    "                sphere(pos=vector(i,j,k),radius=size_Cl,color=color_Cl) #If the remainder of the sum of i,j, and k, is odd it's Chlorine"
   ]
  },
  {
   "cell_type": "markdown",
   "metadata": {},
   "source": [
    "<div class=\"alert alert-success\">\n",
    "***TASK PART 1:***\n",
    "In the code cell below, adapt this code so that instead of drawing a green atom-sphere at each location, it draws:\n",
    "<ul>\n",
    "<li> A white sphere to represent the sodium atom at the centre of the coordinate system (i.e. where $i = j = k = 0$);</li>\n",
    "<li> A sphere (choose any colour you like) to represent the sodium atoms at all coordinates where $i + j + k$ is an even integer; and</li>\n",
    "<li> A sphere (choose any other colour) to represent the chlorine atoms at all the other coordinates, i.e. where $i + j + k$ is odd.</li>\n",
    "</ul> \n",
    "<br>\n",
    "Hint: Rather than using nested `if` statements, you will find it useful to remember the `if/elif/else` structure we saw in session 1 - you can find a summary of this in section 2.5.1 (page 56) of <a href=\"http://sfx.ucl.ac.uk/sfx_local?ctx_ver=Z39.88-2004&ctx_enc=info:ofi/enc:UTF-8&ctx_tim=2016-07-18T13%3A15%3A47IST&url_ver=Z39.88-2004&url_ctx_fmt=infofi/fmt:kev:mtx:ctx&rfr_id=info:sid/primo.exlibrisgroup.com:primo3-Journal-UCL_LMS_DS&rft_val_fmt=info:ofi/fmt:kev:mtx:book&rft.genre=book&rft.atitle=&rft.jtitle=&rft.btitle=Learning%20scientific%20programming%20with%20Python&rft.aulast=Hill&rft.auinit=&rft.auinit1=&rft.auinitm=&rft.ausuffix=&rft.au=Hill,%20Christian,%201974-,%20author&rft.aucorp=&rft.volume=&rft.issue=&rft.part=&rft.quarter=&rft.ssn=&rft.spage=&rft.epage=&rft.pages=&rft.artnum=&rft.issn=&rft.eissn=&rft.isbn=9781107075412&rft.sici=&rft.coden=&rft_id=info:doi/&rft.object_id=&rft.856_url=&rft_dat=%3CUCL_LMS_DS%3E002240476%3C/UCL_LMS_DS%3E&rft.eisbn=&rft_id=info:oai/&req.language=eng\">Hill: Learning Scientific Programming</a>, or at <a href=\"https://docs.python.org/3/tutorial/controlflow.html\">https://docs.python.org/3/tutorial/controlflow.html</a>\n",
    "</div>"
   ]
  },
  {
   "cell_type": "code",
   "execution_count": null,
   "metadata": {},
   "outputs": [],
   "source": [
    "### STUDENT COMPLETED CODE CELL  ~#~ \n",
    "\n",
    "canvas() #Create a new vpython \"canvas\" output for this cell \n",
    "L = 3 #Number of spheres in system will be (2L + 1)^3\n",
    "size_Cl = 0.3 #Size of the Cl(-) atoms\n",
    "size_Na = (size_Cl/0.227)*0.175 #Size of the Na(+) atoms\n",
    "color_Cl = color.green #Color of the Cl(-) atoms\n",
    "color_Na = color.purple #Color of the Na(+) atoms\n",
    "\n",
    "#Loop over each spatial dimension\n",
    "for i in range(-L, L+1):\n",
    "    for j in range(-L, L+1):\n",
    "        for k in range (-L, L+1):\n",
    "            if i == j == k == 0: #If statemnet which is testing the values of i,j, and k, to find the origin\n",
    "                sphere(pos=vector(i,j,k),radius=size_Cl,color=color.white) #Once the origin is found set the colour to white\n",
    "            elif i == 2 and j == -3 and k == 3:\n",
    "                #It is important to notice that the central atom is a Na(+) atom\n",
    "                if (i+j+k) % 2 == 0 : #Once again we test the remainder to find out if (i+j+k) is even/odd...\n",
    "                    sphere(pos=vector(i,j,k),radius=size_Na,color=color_Na) #...and therefore test weither it is Na or Cl.\n",
    "                    arrow(pos=vector(0,0,0), axis=vector(i,j,k), shaftwidth= 0.3, color=color.cyan) #Drawing arrow to represent the interaction between...\n",
    "                    print(\"This ion is Sodium, Na(+), and the potential felt by the central ion is positive.\") #...central and given Sodium atom\n",
    "                elif (i+j+k) % 2 == 1 :\n",
    "                    sphere(pos=vector(i,j,k),radius=size_Cl,color=color_Cl)\n",
    "                    arrow(pos=vector(i,j,k), axis=-vector(i,j,k), shaftwidth= 0.3, color=color.cyan) #Drawing arrow to represent the interaction between...\n",
    "                    print(\"This ion is Chlorine, Cl(-), and the potential felt by the central ion is negative.\") #...central and given Sodium atom\n",
    "            elif i == -3 and j == 2 and k == 2:\n",
    "                #The same as above but instead done for (-3,2,2)\n",
    "                if (i+j+k) % 2 == 0 :\n",
    "                    sphere(pos=vector(i,j,k),radius=size_Na,color=color_Na) \n",
    "                    arrow(pos=vector(0,0,0), axis=vector(i,j,k), shaftwidth= 0.3, color=color.cyan)\n",
    "                    print(\"This ion is Sodium, Na(+), and the potential felt by the central ion is positive.\")\n",
    "                elif (i+j+k) % 2 == 1 :\n",
    "                    sphere(pos=vector(i,j,k),radius=size_Cl,color=color_Cl)\n",
    "                    arrow(pos=vector(i,j,k), axis=-vector(i,j,k), shaftwidth= 0.3, color=color.cyan)\n",
    "                    print(\"This ion is Chlorine, Cl(-), and the potential felt by the central ion is negative.\")\n",
    "            elif (i+j+k) % 2 == 0 : #Elif statements which uses the remainder after dividing by 2 to tell if an atom is Sodium or Chlorine \n",
    "                sphere(pos=vector(i,j,k),radius=size_Na,color=color_Na) #If the remainder of the sum of i,j, and k, is even it's Sodium\n",
    "            elif (i+j+k) % 2 == 1 :\n",
    "                sphere(pos=vector(i,j,k),radius=size_Cl,color=color_Cl) #If the remainder of the sum of i,j, and k, is odd it's Chlorine\n",
    "            \n",
    "\n",
    "###"
   ]
  },
  {
   "cell_type": "markdown",
   "metadata": {
    "collapsed": true
   },
   "source": [
    "## Electric potential\n",
    "\n",
    "Sodium Chloride is an ionic solid, in which the entities are ions rather than neutral atoms.  Each sodium ion will have a charge $+e$, and each chlorine ion $-e$. \n",
    "\n",
    "We're going to consider the total electric potential $V$ that each atom/ion in the NaCl crystal feels. The total potential will then depend on the charges and positions of the nearby atoms.\n",
    "\n",
    "Consider the electric potential between the centre (white) sodium ion and just one of the other ions in the crystal model.\n",
    "The electric potential energy will be given by:\n",
    "$$ U = \\frac{1}{4\\pi \\varepsilon_0} \\frac{q_1 q_2}{r} $$\n",
    "where $q_1$, $q_2$ are the charges of the two objects and $r$ the length of the vector between them. Here $q_1$ will be the charge of the central sodium atom (which we are considering as if it were a point charge), $+e$, and $q_2$ will be the charge of the other atom, which will be either $+e$ or $-e$, depending on whether it is a sodium or chlorine ion.\n",
    "\n",
    "The electric potential around the central Na ion will be the electric potential energy per unit charge, i.e.\n",
    "$$ V = \\frac{U}{e} = \\frac{1}{4\\pi \\varepsilon_0} \\frac{\\pm e}{r}$$\n",
    "\n",
    "We need to know $r = |\\mathbf{r}|$, so the next thing to do is to calculate $\\mathbf{r}$, the vector between the central Na ion and one of the other ions."
   ]
  },
  {
   "cell_type": "markdown",
   "metadata": {},
   "source": [
    "<div class=\"alert alert-success\">\n",
    "***TASK PART 2:*** Copy and paste your code cell for Part 1 into the code cell below. Now edit it to draw a representation of the vector $\\mathbf{r}$ between the central sodium ion and the ion at $i = 2, j = -3, k = +3$. (Use  a vpython \"arrow\" object for this). Is this ion a sodium or a chlorine ion? Will the potential felt by the central Na ion due to this ion be positive or negative?\n",
    "<br>\n",
    "Now also include a vpython representation of the vector from the central Na ion to the ion at $i = -3, j = +2, k = +2$. Is this ion a sodium or a chlorine ion? Will the potential felt by the central Na ion due to this ion be positive or negative? Use the text cell below the code cell to answer.</div>"
   ]
  },
  {
   "cell_type": "code",
   "execution_count": null,
   "metadata": {},
   "outputs": [],
   "source": [
    "### STUDENT COMPLETED CODE CELL  ~#~ START BY COPYING AND PASTING THE CODE CELL ABOVE INTO HERE ###"
   ]
  },
  {
   "cell_type": "markdown",
   "metadata": {},
   "source": [
    "STUDENT COMPLETED MARKDOWN CELL:\n",
    "\n",
    "* The ion at $i = 2, j = -3, k = +3$ is a **Sodium** ion and the central Na ion will feel a **Positive** potential due to this ion.\n",
    "\n",
    "* The ion at $i = -3, j = +2, k = +2$ is a **Chlorine** ion and the central Na ion will feel a **Negative** potential due to this ion.\n",
    "    "
   ]
  },
  {
   "cell_type": "markdown",
   "metadata": {},
   "source": [
    "## The Madelung sum\n",
    "\n",
    "Now we can start to see how each of the ions in our crystal model will contribute to the total potential that the central atom feels. We'll need to calculate a sum over all the other ions in the crystal, and add their contribution to the total potential. We can write this as:\n",
    "\n",
    "$$ V_\\text{total} = \\frac{1}{4\\pi\\varepsilon_0} \\sum_{i,j,k= -L (i,j,k, \\neq 0)}^L \\frac{\\pm e}{ a \\sqrt{i^2 + j^2 + k^2}}. $$\n",
    "\n",
    "The value $a$ in the denominator is the actual separation between the ions in the crystal. In a typical crystal with this structure, the interatomic spacing is about 0.5 nm.\n",
    "\n",
    "We can express this more concisely as\n",
    "\n",
    "$$ V_\\text{total} = \\frac{e}{4\\pi\\varepsilon_0 a} M $$\n",
    "\n",
    "where $M$ is the Madelung sum,\n",
    "\n",
    "$$ M = \\sum_{i,j,k= -L (i,j,k, \\neq 0)}^L \\frac{\\pm 1}{ \\sqrt{i^2 + j^2 + k^2}}. $$\n",
    "\n",
    "The Madelung sum is what you're going to calculate now. Hopefully you'll have spotted that, conveniently, we've already got the code structure in place for the triple summation over values of $i, j,$ and $k$."
   ]
  },
  {
   "cell_type": "markdown",
   "metadata": {},
   "source": [
    "<div class=\"alert alert-success\">\n",
    "***TASK PART 3a:*** \n",
    "\n",
    "Copy and paste your working code from Part 2 into the first code cell below. Then use this to:\n",
    "\n",
    "<ol> \n",
    "<li> Further adapt your code above to calculate the Madelung sum $M$ for this crystal model,  and output the result (together with all appropriate units). </li>\n",
    "<li>Try increasing the value of $L$ in your code. Do you encounter any problems? [Hint: if your code gets stuck, press the stop button to interrupt the kernel. It's also an idea to restart the kernel, clearing all output, before rerunning your code]. Describe this briefly in the text cell below, then reset L to 3 and rerun.</li>\n",
    "\n",
    "</ol>\n",
    "</div>"
   ]
  },
  {
   "cell_type": "code",
   "execution_count": null,
   "metadata": {},
   "outputs": [],
   "source": [
    "### STUDENT COMPLETED CODE CELL  ~#~ \n",
    "\n",
    "canvas() #Create a new vpython \"canvas\" output for this cell \n",
    "L = 3 #Number of spheres in system will be (2L + 1)^3\n",
    "size_Cl = 0.3 #Size of the Cl(-) atoms\n",
    "size_Na = (size_Cl/0.227)*0.175 #Size of the Na(+) atoms\n",
    "color_Cl = color.green #Color of the Cl(-) atoms\n",
    "color_Na = color.purple #Color of the Na(+) atoms\n",
    "m_sum = 0 #Initialising the Madelung Sum\n",
    "\n",
    "#Loop over each spatial dimension\n",
    "for i in range(-L, L+1):\n",
    "    for j in range(-L, L+1):\n",
    "        for k in range (-L, L+1):\n",
    "            \n",
    "            ##Creating Our 3D Structure##\n",
    "            \n",
    "            if i == j == k == 0: #If statemnet which is testing the values of i,j, and k, to find the origin\n",
    "                sphere(pos=vector(i,j,k),radius=size_Cl,color=color.white) #Once the origin is found set the colour to white\n",
    "            elif i == 2 and j == -3 and k == 3:\n",
    "                #It is important to notice that the central atom is a Na(+) atom\n",
    "                if (i+j+k) % 2 == 0 : #Once again we test the remainder to find out if (i+j+k) is even/odd...\n",
    "                    sphere(pos=vector(i,j,k),radius=size_Na,color=color_Na) #...and therefore test weither it is Na or Cl.\n",
    "                    arrow(pos=vector(0,0,0), axis=vector(i,j,k), shaftwidth= 0.3, color=color.cyan) #Drawing arrow to represent the interaction between...\n",
    "                    print(\"This ion is Sodium, Na(+), and the potential felt by the central ion is positive.\") #...central and given Sodium atom\n",
    "                    m_term = (1) / np.sqrt((i**2) + (j**2) + (k**2)) #Setting the term for the madelung sum, where the atom is Na\n",
    "                    m_sum = m_sum + m_term #Updating the Madelung sum with the term calculated above\n",
    "                elif (i+j+k) % 2 == 1 :\n",
    "                    sphere(pos=vector(i,j,k),radius=size_Cl,color=color_Cl)\n",
    "                    arrow(pos=vector(i,j,k), axis=-vector(i,j,k), shaftwidth= 0.3, color=color.cyan) #Drawing arrow to represent the interaction between...\n",
    "                    print(\"This ion is Chlorine, Cl(-), and the potential felt by the central ion is negative.\") #...central and given Sodium atom\n",
    "                    m_term = (-1) / np.sqrt((i**2) + (j**2) + (k**2)) #Setting the term for the madelung sum, where the atom is Cl\n",
    "                    m_sum = m_sum + m_term #Updating the Madelung sum with the term calculated above\n",
    "            elif i == -3 and j == 2 and k == 2:\n",
    "                #The same as above but instead done for (-3,2,2)\n",
    "                if (i+j+k) % 2 == 0 :\n",
    "                    sphere(pos=vector(i,j,k),radius=size_Na,color=color_Na) \n",
    "                    arrow(pos=vector(0,0,0), axis=vector(i,j,k), shaftwidth= 0.3, color=color.cyan)\n",
    "                    print(\"This ion is Sodium, Na(+), and the potential felt by the central ion is positive.\")\n",
    "                    m_term = (1) / np.sqrt((i**2) + (j**2) + (k**2))\n",
    "                    m_sum = m_sum + m_term\n",
    "                elif (i+j+k) % 2 == 1 :\n",
    "                    sphere(pos=vector(i,j,k),radius=size_Cl,color=color_Cl)\n",
    "                    arrow(pos=vector(i,j,k), axis=-vector(i,j,k), shaftwidth= 0.3, color=color.cyan)\n",
    "                    print(\"This ion is Chlorine, Cl(-), and the potential felt by the central ion is negative.\")\n",
    "                    m_term = (-1) / np.sqrt((i**2) + (j**2) + (k**2))\n",
    "                    m_sum = m_sum + m_term\n",
    "            elif (i+j+k) % 2 == 0 : #Elif statements which uses the remainder after dividing by 2 to tell if an atom is Sodium or Chlorine \n",
    "                sphere(pos=vector(i,j,k),radius=size_Na,color=color_Na) #If the remainder of the sum of i,j, and k, is even it's Sodium\n",
    "                m_term = (1) / np.sqrt((i**2) + (j**2) + (k**2))\n",
    "                m_sum = m_sum + m_term\n",
    "            elif (i+j+k) % 2 == 1 :\n",
    "                sphere(pos=vector(i,j,k),radius=size_Cl,color=color_Cl) #If the remainder of the sum of i,j, and k, is odd it's Chlorine\n",
    "                m_term = (-1) / np.sqrt((i**2) + (j**2) + (k**2))\n",
    "                m_sum = m_sum + m_term\n",
    "            \n",
    "           \n",
    "            \n",
    "#Printing the Value calculated for the Madelung sum of this structure\n",
    "print(\"The calculated Madelung Sum for this structure is \" + str(m_sum) + \" m^(-1)\")\n",
    "###"
   ]
  },
  {
   "cell_type": "markdown",
   "metadata": {},
   "source": [
    "STUDENT COMPLETED MARKDOWN CELL:\n",
    "\n",
    "As we increase the value of L it is clear to see the time taken for the 3D model to load is increased with the computer staring to show noticable lag at around L=8. When L is an odd number we seem to get an overestiamte for the accepeted value of the Madelung sum whilst when even we get an underestimate."
   ]
  },
  {
   "cell_type": "markdown",
   "metadata": {},
   "source": [
    "<div class=\"alert alert-success\">\n",
    "***TASK PART 3b:*** \n",
    "\n",
    "Finally, copy and paste your completed code into the code cell below. Comment/edit out all the vpython drawing commands, set $L$ to 100, and output this value of M. _Roughly_ estimate how long this takes to calculate. For an infinite (i.e. when $L = \\infty$) NaCl structure crystal, the value of $M$ is $\\sim -1.748$. How do your values compare? Discuss in a text cell.\n",
    "\n",
    "</div>"
   ]
  },
  {
   "cell_type": "code",
   "execution_count": 6,
   "metadata": {},
   "outputs": [
    {
     "name": "stdout",
     "output_type": "stream",
     "text": [
      "This if statement at the begining has been inserted to make sure a division by 0 error is avoided.\n",
      "The calculated Madelung Sum for this structure is -1.7418198158396654 m^(-1)\n"
     ]
    }
   ],
   "source": [
    "### STUDENT COMPLETED CODE CELL  ~#~ \n",
    "\n",
    "\n",
    "L = 100 #Number of spheres in system will be (2L + 1)^3\n",
    "m_sum = 0 #Initialising the Madelung Sum\n",
    "\n",
    "#Loop over each spatial dimension\n",
    "for i in range(-L, L+1):\n",
    "    for j in range(-L, L+1):\n",
    "        for k in range (-L, L+1):\n",
    "            \n",
    "            if i == j == k == 0: #If statemnet which is testing the values of i,j, and k, to find the origin\n",
    "                print(\"This if statement at the begining has been inserted to make sure a division by 0 error is avoided.\")\n",
    "            elif (i+j+k) % 2 == 0 : #Elif statements which uses the remainder after dividing by 2 to tell if an atom is Sodium or Chlorine \n",
    "                #If the remainder of the sum of i,j, and k, is even it's Sodium\n",
    "                m_term = (1) / np.sqrt((i**2) + (j**2) + (k**2))\n",
    "                m_sum = m_sum + m_term\n",
    "            elif (i+j+k) % 2 == 1 :\n",
    "                #If the remainder of the sum of i,j, and k, is odd it's Chlorine\n",
    "                m_term = (-1) / np.sqrt((i**2) + (j**2) + (k**2))\n",
    "                m_sum = m_sum + m_term\n",
    "            \n",
    "        \n",
    "#Printing the Value calculated for the Madelung sum of this structure\n",
    "print(\"The calculated Madelung Sum for this structure is \" + str(m_sum) + \" m^(-1)\")\n",
    "\n",
    "###"
   ]
  },
  {
   "cell_type": "markdown",
   "metadata": {},
   "source": [
    "STUDENT COMPLETED MARKDOWN CELL:"
   ]
  }
 ],
 "metadata": {
  "anaconda-cloud": {},
  "kernelspec": {
   "display_name": "Python 3",
   "language": "python",
   "name": "python3"
  },
  "language_info": {
   "codemirror_mode": {
    "name": "ipython",
    "version": 3
   },
   "file_extension": ".py",
   "mimetype": "text/x-python",
   "name": "python",
   "nbconvert_exporter": "python",
   "pygments_lexer": "ipython3",
   "version": "3.6.5"
  }
 },
 "nbformat": 4,
 "nbformat_minor": 1
}
