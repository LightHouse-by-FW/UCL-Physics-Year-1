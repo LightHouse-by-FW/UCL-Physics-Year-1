{
 "cells": [
  {
   "cell_type": "markdown",
   "metadata": {
    "collapsed": true
   },
   "source": [
    "# Session 8: Vpython animations for mechanics\n",
    "*[Author: Louise Dash (louise.dash@ucl.ac.uk)\n",
    "Last updated: 21.11.2018]*\n",
    "\n",
    "> ** *Intended learning outcomes:* **\n",
    "\n",
    "> By the end of this session, you should be able to:\n",
    "> * Move vpython objects around the screen\n",
    "> * Implement equations of motion computationally to create animations of simple physical problems.\n",
    "\n"
   ]
  },
  {
   "cell_type": "markdown",
   "metadata": {},
   "source": [
    "### Creating animations\n",
    "Last week we looked at creating objects with vpython. This week we will animate them. We'll start by importing the commands we need:"
   ]
  },
  {
   "cell_type": "code",
   "execution_count": 3,
   "metadata": {},
   "outputs": [
    {
     "data": {
      "application/javascript": [
       "if (typeof Jupyter !== \"undefined\") {require.undef(\"nbextensions/vpython_libraries/glow.min\");}else{element.textContent = ' ';}"
      ],
      "text/plain": [
       "<IPython.core.display.Javascript object>"
      ]
     },
     "metadata": {},
     "output_type": "display_data"
    },
    {
     "data": {
      "application/javascript": [
       "if (typeof Jupyter !== \"undefined\") {require.undef(\"nbextensions/vpython_libraries/glowcomm\");}else{element.textContent = ' ';}"
      ],
      "text/plain": [
       "<IPython.core.display.Javascript object>"
      ]
     },
     "metadata": {},
     "output_type": "display_data"
    },
    {
     "data": {
      "application/javascript": [
       "if (typeof Jupyter !== \"undefined\") {require.undef(\"nbextensions/vpython_libraries/jquery-ui.custom.min\");}else{element.textContent = ' ';}"
      ],
      "text/plain": [
       "<IPython.core.display.Javascript object>"
      ]
     },
     "metadata": {},
     "output_type": "display_data"
    },
    {
     "data": {
      "application/javascript": [
       "if (typeof Jupyter !== \"undefined\") {require([\"nbextensions/vpython_libraries/glow.min\"], function(){console.log(\"GLOW LOADED\");});}else{element.textContent = ' ';}"
      ],
      "text/plain": [
       "<IPython.core.display.Javascript object>"
      ]
     },
     "metadata": {},
     "output_type": "display_data"
    },
    {
     "data": {
      "application/javascript": [
       "if (typeof Jupyter !== \"undefined\") {require([\"nbextensions/vpython_libraries/glowcomm\"], function(){console.log(\"GLOWCOMM LOADED\");});}else{element.textContent = ' ';}"
      ],
      "text/plain": [
       "<IPython.core.display.Javascript object>"
      ]
     },
     "metadata": {},
     "output_type": "display_data"
    },
    {
     "data": {
      "application/javascript": [
       "if (typeof Jupyter !== \"undefined\") {require([\"nbextensions/vpython_libraries/jquery-ui.custom.min\"], function(){console.log(\"JQUERY LOADED\");});}else{element.textContent = ' ';}"
      ],
      "text/plain": [
       "<IPython.core.display.Javascript object>"
      ]
     },
     "metadata": {},
     "output_type": "display_data"
    },
    {
     "data": {
      "text/html": [
       "<div id=\"glowscript\" class=\"glowscript\"></div>"
      ],
      "text/plain": [
       "<IPython.core.display.HTML object>"
      ]
     },
     "metadata": {},
     "output_type": "display_data"
    },
    {
     "data": {
      "application/javascript": [
       "if (typeof Jupyter !== \"undefined\") { window.__context = { glowscript_container: $(\"#glowscript\").removeAttr(\"id\")};}else{ element.textContent = ' ';}"
      ],
      "text/plain": [
       "<IPython.core.display.Javascript object>"
      ]
     },
     "metadata": {},
     "output_type": "display_data"
    }
   ],
   "source": [
    "import numpy as np\n",
    "from vpython import sphere, color, rate, canvas, vector, curve, box, label"
   ]
  },
  {
   "cell_type": "markdown",
   "metadata": {},
   "source": [
    "Now look at the code in the cell below.\n",
    "\n",
    "It will draw two spheres. The first (white sphere) is at the origin of the coordinate system and doesn't move. However, the position of the second (green) sphere is updated at each step of the loop, so that the sphere moves from the top right of the canvas to the bottom left.\n",
    "\n",
    "There is one new command here: `rate(x)` will slow down the animation so that the loop is only run `x` times per second. Try commenting out this line and then re-running the code. Can you see why we need to specify the rate? Experiment with different values here. When you're writing your own code you'll need to choose a suitable value for the animation rate."
   ]
  },
  {
   "cell_type": "code",
   "execution_count": 11,
   "metadata": {},
   "outputs": [
    {
     "data": {
      "text/html": [
       "<div id=\"glowscript\" class=\"glowscript\"></div>"
      ],
      "text/plain": [
       "<IPython.core.display.HTML object>"
      ]
     },
     "metadata": {},
     "output_type": "display_data"
    },
    {
     "data": {
      "application/javascript": [
       "if (typeof Jupyter !== \"undefined\") { window.__context = { glowscript_container: $(\"#glowscript\").removeAttr(\"id\")};}else{ element.textContent = ' ';}"
      ],
      "text/plain": [
       "<IPython.core.display.Javascript object>"
      ]
     },
     "metadata": {},
     "output_type": "display_data"
    }
   ],
   "source": [
    "canvas()\n",
    "\n",
    "n = 10                                          # loop counter \n",
    "origin = sphere(pos=vector(0,0,0))                 # static sphere at origin\n",
    "movingball = sphere(pos=vector(n,n,0),color=color.green) # ball starts at top right\n",
    "\n",
    "while n >= -10:                     # loop to animate green sphere\n",
    "    rate(5)                         # restricts animation to 5 updates per second   \n",
    "    n = n - 1                 \n",
    "    movingball.pos = vector(n,n,0)  # move ball one step down and left"
   ]
  },
  {
   "cell_type": "markdown",
   "metadata": {},
   "source": [
    "Make sure you fully understand the code in the cell above before proceeding!\n",
    "\n",
    "### Animating a projectile\n",
    "\n",
    "Now we know how to animate objects, let's look at a problem from classical mechanics: the animation of a projectile.\n",
    "\n",
    "The task template for this session contains a skeleton code to set up the problem for you. Open that notebook now - you will still need to refer to this script as well.\n",
    "\n",
    "The code in the task template uses the vpython `curve()` function to draw a green line to represent the \"ground\". You can find full documentation for the `curve()` function at http://www.glowscript.org/docs/VPythonDocs/curve.html.\n",
    "\n",
    "The template puts a sphere at x=0 to represent a ball, which is launched from an height of y0 at the initial angle theta and speed v0. It then starts a loop for as long as the ball is still in the air (checked by comparing the height of the ball to the position of the ground).\n",
    "\n",
    "A few things to note here:\n",
    "* We use the numpy radians() function to convert the user-provided angle, in degrees, to radians.\n",
    "* `dt` represents a small but finite animation timestep $\\delta t$\n",
    "* `make_trail=True` (in the sphere object setup) will draw a trail behind the sphere so that you can see the path of the projectile.\n"
   ]
  },
  {
   "cell_type": "markdown",
   "metadata": {},
   "source": [
    "The rest of the code is missing. Your job is to complete it, by implementing the relevant equations below, with which you are already familiar with from A-level and/or PHAS0007.\n",
    "\n",
    "$$ x(t) = x_0 + v_0 t \\cos \\theta $$\n",
    "\n",
    "$$ y(t) = y_0 + v_0 t \\sin \\theta -\\frac{1}{2}g t^2 $$\n",
    "\n",
    "$$ \\text{Range} = \\frac{v_0^2 \\sin(2\\theta)}{g} $$\n",
    "\n",
    "Your code will need to:\n",
    "\n",
    "* Inside the loop:\n",
    "     * Increment the time by <tt>dt</tt>\n",
    "     * Calculate the current position of the ball using the equations above\n",
    "     * Redraw the ball at the new position\n",
    "* Outside the loop:\n",
    "     * Use the final value of t to calculate for how long the ball was in the air \n",
    "     * Use the final value of x to calculate where the ball landed\n",
    "     * Use the range equation to calculate what the range of the ball would be if launched from the origin (y0 = 0 m), and compare this with your value of x when the ball is launched from the origin.\n",
    "     * Output these results to the screen with appropriate print statements.\n",
    "\n",
    "\n",
    "Once you have the basic code working, _**do the quiz on the Moodle page**_.\n",
    "\n",
    "Then try experimenting with the code!\n",
    "\n",
    "* How is the calculation affected when you change dt?\n",
    "* Try outputting the results to the Vpython canvas _**as well as the console**_. (Hint: http://www.glowscript.org/docs/VPythonDocs/label.html )\n",
    "* Try including an object for the object to be launched from rather than starting in midair at y = y0 (Hint: http://www.glowscript.org/docs/VPythonDocs/box.html )\n",
    "\n",
    "### CHALLENGE!\n",
    "\n",
    "_(This challenge is **optional**, although it does carry a small amount of credit. If you accept it, you will get only non-priority help from the demonstrators)_\n",
    "\n",
    "A real ball will bounce inelastically, and the normal component of the velocity is reduced by a factor $e < 1$, where $e$ is the _coefficient of restitution_. This is described in section 7.4 (p.63) of the [lecture notes for PHAS0010](https://moodle-1819.ucl.ac.uk/mod/resource/view.php?id=365569) - read this through if you want to attempt the challenge. Equations 375-379 of that section can be rearranged to describe how the speed and angle of our projectile will change at each bounce, depending on $e$, giving us the following four equations:\n",
    "\n",
    "The angle of incidence is defined relative to the normal (i.e. $y$-axis):\n",
    "\n",
    "$$ \\alpha = \\frac{\\pi}{2} - \\theta $$\n",
    "\n",
    "This gives us the angle of reflection, again relative to the normal (see eqn 377 of PHAS0010 section 7):\n",
    "\n",
    "$$ \\beta = \\arctan\\left(\\frac{\\tan \\alpha }{e} \\right)$$\n",
    "\n",
    "From these we can calculate the speed of the ball following the bounce, $v_0^\\prime$:\n",
    "\n",
    "$$ v_0^\\prime =  \\frac{\\cos \\alpha}{\\cos \\beta} v_0 e$$\n",
    "\n",
    "And the launch angle (relative to the $x$-axis, as before) of the ball following the bounce:\n",
    "\n",
    "$$ \\theta^\\prime = \\frac{\\pi}{2} - \\beta $$ \n",
    "\n",
    "Implement these equations in your code. You'll need to add another loop structure around the main loop, and find a suitable way of exiting the loop when the bounces get trivially small.\n",
    "\n",
    "Does your code now give realistic results? Add a text cell to your code to explain why/why not."
   ]
  },
  {
   "cell_type": "code",
   "execution_count": null,
   "metadata": {},
   "outputs": [],
   "source": []
  }
 ],
 "metadata": {
  "anaconda-cloud": {},
  "kernelspec": {
   "display_name": "Python 3",
   "language": "python",
   "name": "python3"
  },
  "language_info": {
   "codemirror_mode": {
    "name": "ipython",
    "version": 3
   },
   "file_extension": ".py",
   "mimetype": "text/x-python",
   "name": "python",
   "nbconvert_exporter": "python",
   "pygments_lexer": "ipython3",
   "version": "3.6.5"
  }
 },
 "nbformat": 4,
 "nbformat_minor": 1
}
