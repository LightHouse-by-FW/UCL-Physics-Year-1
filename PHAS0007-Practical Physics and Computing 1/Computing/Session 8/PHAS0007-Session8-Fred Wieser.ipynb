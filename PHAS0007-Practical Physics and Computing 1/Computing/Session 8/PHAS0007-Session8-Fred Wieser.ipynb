{
 "cells": [
  {
   "cell_type": "markdown",
   "metadata": {
    "collapsed": true
   },
   "source": [
    "# Session 8: Projectile Simulation using VPython\n",
    "\n",
    "## Frederico Wieser 30/11/18\n",
    "\n",
    "In this Jupyter notebook we will be using the VPython numpy libararies to show the path of a projetile when launched from any given height, angle and speed, where air resistance is negligable. We have also created a scenario where we see what happens after the ball hits the floor and what path it will take, for a given cooefficient of restitution. This is until the path has an initial angle of less then one degree."
   ]
  },
  {
   "cell_type": "code",
   "execution_count": 2,
   "metadata": {},
   "outputs": [
    {
     "data": {
      "application/javascript": [
       "if (typeof Jupyter !== \"undefined\") {require.undef(\"nbextensions/vpython_libraries/glow.min\");}else{element.textContent = ' ';}"
      ],
      "text/plain": [
       "<IPython.core.display.Javascript object>"
      ]
     },
     "metadata": {},
     "output_type": "display_data"
    },
    {
     "data": {
      "application/javascript": [
       "if (typeof Jupyter !== \"undefined\") {require.undef(\"nbextensions/vpython_libraries/glowcomm\");}else{element.textContent = ' ';}"
      ],
      "text/plain": [
       "<IPython.core.display.Javascript object>"
      ]
     },
     "metadata": {},
     "output_type": "display_data"
    },
    {
     "data": {
      "application/javascript": [
       "if (typeof Jupyter !== \"undefined\") {require.undef(\"nbextensions/vpython_libraries/jquery-ui.custom.min\");}else{element.textContent = ' ';}"
      ],
      "text/plain": [
       "<IPython.core.display.Javascript object>"
      ]
     },
     "metadata": {},
     "output_type": "display_data"
    },
    {
     "data": {
      "application/javascript": [
       "if (typeof Jupyter !== \"undefined\") {require([\"nbextensions/vpython_libraries/glow.min\"], function(){console.log(\"GLOW LOADED\");});}else{element.textContent = ' ';}"
      ],
      "text/plain": [
       "<IPython.core.display.Javascript object>"
      ]
     },
     "metadata": {},
     "output_type": "display_data"
    },
    {
     "data": {
      "application/javascript": [
       "if (typeof Jupyter !== \"undefined\") {require([\"nbextensions/vpython_libraries/glowcomm\"], function(){console.log(\"GLOWCOMM LOADED\");});}else{element.textContent = ' ';}"
      ],
      "text/plain": [
       "<IPython.core.display.Javascript object>"
      ]
     },
     "metadata": {},
     "output_type": "display_data"
    },
    {
     "data": {
      "application/javascript": [
       "if (typeof Jupyter !== \"undefined\") {require([\"nbextensions/vpython_libraries/jquery-ui.custom.min\"], function(){console.log(\"JQUERY LOADED\");});}else{element.textContent = ' ';}"
      ],
      "text/plain": [
       "<IPython.core.display.Javascript object>"
      ]
     },
     "metadata": {},
     "output_type": "display_data"
    },
    {
     "data": {
      "text/html": [
       "<div id=\"glowscript\" class=\"glowscript\"></div>"
      ],
      "text/plain": [
       "<IPython.core.display.HTML object>"
      ]
     },
     "metadata": {},
     "output_type": "display_data"
    },
    {
     "data": {
      "application/javascript": [
       "if (typeof Jupyter !== \"undefined\") { window.__context = { glowscript_container: $(\"#glowscript\").removeAttr(\"id\")};}else{ element.textContent = ' ';}"
      ],
      "text/plain": [
       "<IPython.core.display.Javascript object>"
      ]
     },
     "metadata": {},
     "output_type": "display_data"
    }
   ],
   "source": [
    "import numpy as np\n",
    "from vpython import sphere, color, rate, canvas, vector, curve"
   ]
  },
  {
   "cell_type": "markdown",
   "metadata": {},
   "source": [
    "The incomplete code is below. Complete it following the instructions in the script and use this text cell (add more text cells if you want) to summarise the physics of what you have added to the code."
   ]
  },
  {
   "cell_type": "code",
   "execution_count": 3,
   "metadata": {},
   "outputs": [
    {
     "data": {
      "text/html": [
       "<div id=\"glowscript\" class=\"glowscript\"></div>"
      ],
      "text/plain": [
       "<IPython.core.display.HTML object>"
      ]
     },
     "metadata": {},
     "output_type": "display_data"
    },
    {
     "data": {
      "application/javascript": [
       "if (typeof Jupyter !== \"undefined\") { window.__context = { glowscript_container: $(\"#glowscript\").removeAttr(\"id\")};}else{ element.textContent = ' ';}"
      ],
      "text/plain": [
       "<IPython.core.display.Javascript object>"
      ]
     },
     "metadata": {},
     "output_type": "display_data"
    },
    {
     "name": "stdout",
     "output_type": "stream",
     "text": [
      "Input the initial height in metres: 10\n",
      "Input the initial angle in degrees: 45\n",
      "Input the initial speed in metres/second: 10\n",
      "the ball was in the air for 2.322999999999855 seconds\n",
      "the ball landed 16.41901945915061 metres away from where it started\n",
      "the range of the ball would have been 10.204081632653061 metres if the ball were launched from a height of 0 \n"
     ]
    }
   ],
   "source": [
    "### set up the scene\n",
    "canvas(center = vector(50,20,0),range=50)\n",
    "ground = curve(pos=[vector(-5,0,0),vector(100,0,0)],color = color.green)\n",
    "\n",
    "# other parameters\n",
    "g = 9.8 # gravitational acceleration, m/s2\n",
    "dt = 0.001 # time interval for loop animation, in seconds\n",
    "x0 = 0.0 # initial ball x-coordinate (metres)\n",
    "\n",
    "# input initial conditions (height, angle and speed)\n",
    "y0 = float(input(\"Input the initial height in metres: \"))\n",
    "dtheta = float(input(\"Input the initial angle in degrees: \"))\n",
    "theta = np.radians(dtheta)\n",
    "v0 = float(input(\"Input the initial speed in metres/second: \"))\n",
    "\n",
    "# start the animation\n",
    "ball = sphere(pos = vector(x0,y0,0),radius = 1,make_trail=True)\n",
    "t = 0 # initial time\n",
    "y = 0 # initialising the variable y outside the loop so it runable\n",
    "\n",
    "platform = curve(pos=[vector(-5,y0,0),vector(5,y0,0)],color = color.blue)# platform where the ball is launched from\n",
    "\n",
    "### INSIDE THE LOOP ###\n",
    "\n",
    "while y >= 0: # While the ball has not hit the ground yet\n",
    "    rate(0.6/dt)  # restricts animation to 60 updates per second\n",
    "    x = x0 + (v0*t*np.cos(theta)) # x-coordinate of ball\n",
    "    y = y0 + (v0*t*np.sin(theta)) - (0.5*g*(t**2)) # y-coordinate of ball\n",
    "    ball.pos = vector(x,y,0) # updating the position of the ball on the canvas\n",
    "    t = t + dt # increasing the time by a small value, dt\n",
    "    \n",
    "### OUTSIDE THE LOOP ###\n",
    "\n",
    "t_final = t #time taken for projectile to hit the ground\n",
    "range_x = ((v0**2)*np.sin(2*theta))/g #final x-coordinate if the ball were launched from a height of 0\n",
    "\n",
    "print(\"the ball was in the air for \" + str(t_final) + \" seconds\")\n",
    "print(\"the ball landed \" + str(x) + \" metres away from where it started\")\n",
    "print(\"the range of the ball would have been \" + str(range_x) + \" metres if the ball were launched from a height of 0 \")\n",
    "\n"
   ]
  },
  {
   "cell_type": "markdown",
   "metadata": {},
   "source": [
    "The chaning of dt causes the calculation to be much more accurate when dt is smaller and much more incorrect when smaller. It also causes the time taken for the simulation to take place."
   ]
  },
  {
   "cell_type": "code",
   "execution_count": 4,
   "metadata": {},
   "outputs": [
    {
     "data": {
      "text/html": [
       "<div id=\"glowscript\" class=\"glowscript\"></div>"
      ],
      "text/plain": [
       "<IPython.core.display.HTML object>"
      ]
     },
     "metadata": {},
     "output_type": "display_data"
    },
    {
     "data": {
      "application/javascript": [
       "if (typeof Jupyter !== \"undefined\") { window.__context = { glowscript_container: $(\"#glowscript\").removeAttr(\"id\")};}else{ element.textContent = ' ';}"
      ],
      "text/plain": [
       "<IPython.core.display.Javascript object>"
      ]
     },
     "metadata": {},
     "output_type": "display_data"
    },
    {
     "name": "stdout",
     "output_type": "stream",
     "text": [
      "Input the initial height in metres: 10\n",
      "Input the initial angle in degrees: 45\n",
      "Input the initial speed in metres/second: 15\n",
      "What is the coefficient of restitution: 0.7\n",
      "the ball was in the air for 0 seconds\n",
      "the ball landed 132.31274745209913 metres away from where it started\n"
     ]
    }
   ],
   "source": [
    "import numpy as np\n",
    "from vpython import sphere, color, rate, canvas, vector, curve\n",
    "\n",
    "### CHALLENGE ###\n",
    "\n",
    "### set up the scene\n",
    "canvas(center = vector(50,20,0),range=50)\n",
    "ground = curve(pos=[vector(-5,0,0),vector(100,0,0)],color = color.green)\n",
    "\n",
    "# other parameters\n",
    "g = 9.8 # gravitational acceleration, m/s2\n",
    "dt = 0.01 # time interval for loop animation, in seconds\n",
    "x0 = 0.0 # initial ball x-coordinate (metres)\n",
    "\n",
    "# input initial conditions (height, angle and speed)\n",
    "y0 = float(input(\"Input the initial height in metres: \"))\n",
    "dtheta = float(input(\"Input the initial angle in degrees: \"))\n",
    "theta = np.radians(dtheta)\n",
    "v0 = float(input(\"Input the initial speed in metres/second: \"))\n",
    "e = float(input(\"What is the coefficient of restitution: \"))\n",
    "\n",
    "# start the animation\n",
    "ball = sphere(pos = vector(x0,y0,0),radius = 1,make_trail=True)\n",
    "t = 0 # initial time\n",
    "y = 0 # initialising the variable y outside the loop so it runable\n",
    "\n",
    "platform = curve(pos=[vector(-5,y0,0),vector(5,y0,0)],color = color.blue)# platform where the ball is launched from\n",
    "\n",
    "n = 0\n",
    "### INSIDE THE LOOP ###\n",
    "while theta > 0.0174532925: #Roughly one degree\n",
    "    while y >= 0: # While the ball has not hit the ground yet\n",
    "        rate(60)  # restricts animation to 60 updates per second\n",
    "        x = x0 + (v0*t*np.cos(theta)) # x-coordinate of ball\n",
    "        y = y0 + (v0*t*np.sin(theta)) - (0.5*g*(t**2)) # y-coordinate of ball\n",
    "        ball.pos = vector(x,y,0) # updating the position of the ball on the canvas\n",
    "        t = t + dt # increasing the time by a small value, dt \n",
    "    \n",
    "    vi = np.sqrt((v0*np.cos(theta))**2 + (v0*np.sin(theta) - g*t)**2) #Find out value of velocity at point of impact\n",
    "    x0 = x #Redefine x0\n",
    "    y0 = 0 #Reset parameter\n",
    "    y = 0 #Reset parameter\n",
    "    t = 0 #Reset parameter\n",
    "    a = np.arctan((v0*np.cos(theta)/abs(v0*np.sin(theta) - g*t))) #calculating angle alpha of incidence\n",
    "    b = np.arctan(np.tan(a)/e) #angle of reflection\n",
    "    theta = (np.pi/2) - b #new launching angle\n",
    "    v0 = (np.cos(a)/np.cos(b))*vi*e #new initial veloicty\n",
    "    \n",
    "\n",
    "### OUTSIDE THE LOOP ###\n",
    "\n",
    "t_final = t #time taken for projectile to hit the ground\n",
    "\n",
    "print(\"the ball was in the air for \" + str(t_final) + \" seconds\")\n",
    "print(\"the ball landed \" + str(x) + \" metres away from where it started\")\n"
   ]
  },
  {
   "cell_type": "markdown",
   "metadata": {},
   "source": [
    "The cose does not give realistic reults since one of the factors we have not accounted for is air resistance in the horizonatl motion. Saying that it gives a very good estimate in systems where air resistance is negligible, such as indoors. We are also stopping at a point where the initial angle is less than 1 degree which would not happen in a real world senario."
   ]
  },
  {
   "cell_type": "code",
   "execution_count": null,
   "metadata": {},
   "outputs": [],
   "source": []
  }
 ],
 "metadata": {
  "anaconda-cloud": {},
  "kernelspec": {
   "display_name": "Python 3",
   "language": "python",
   "name": "python3"
  },
  "language_info": {
   "codemirror_mode": {
    "name": "ipython",
    "version": 3
   },
   "file_extension": ".py",
   "mimetype": "text/x-python",
   "name": "python",
   "nbconvert_exporter": "python",
   "pygments_lexer": "ipython3",
   "version": "3.6.5"
  }
 },
 "nbformat": 4,
 "nbformat_minor": 1
}
