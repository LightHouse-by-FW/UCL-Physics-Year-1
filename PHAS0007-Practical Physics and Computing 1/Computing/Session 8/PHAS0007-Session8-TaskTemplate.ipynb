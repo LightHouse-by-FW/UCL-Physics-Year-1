{
 "cells": [
  {
   "cell_type": "markdown",
   "metadata": {
    "collapsed": true
   },
   "source": [
    "# Session 8: Task Template\n",
    "\n",
    "Replace this with a suitable introduction, and import any extra vpython functions you use in the cell below."
   ]
  },
  {
   "cell_type": "code",
   "execution_count": 3,
   "metadata": {},
   "outputs": [],
   "source": [
    "import numpy as np\n",
    "from vpython import sphere, color, rate, canvas, vector, curve"
   ]
  },
  {
   "cell_type": "markdown",
   "metadata": {},
   "source": [
    "The incomplete code is below. Complete it following the instructions in the script and use this text cell (add more text cells if you want) to summarise the physics of what you have added to the code."
   ]
  },
  {
   "cell_type": "code",
   "execution_count": 7,
   "metadata": {},
   "outputs": [
    {
     "ename": "SyntaxError",
     "evalue": "unexpected EOF while parsing (<ipython-input-7-7c7fbddae8c0>, line 22)",
     "output_type": "error",
     "traceback": [
      "\u001b[0;36m  File \u001b[0;32m\"<ipython-input-7-7c7fbddae8c0>\"\u001b[0;36m, line \u001b[0;32m22\u001b[0m\n\u001b[0;31m    # HERE!\u001b[0m\n\u001b[0m           ^\u001b[0m\n\u001b[0;31mSyntaxError\u001b[0m\u001b[0;31m:\u001b[0m unexpected EOF while parsing\n"
     ]
    }
   ],
   "source": [
    "### set up the scene\n",
    "canvas(center = vector(50,20,0),range=50)\n",
    "ground = curve(pos=[vector(-5,0,0),vector(100,0,0)],color = color.green)\n",
    "\n",
    "# other parameters\n",
    "g = 9.8 # gravitational acceleration, m/s2\n",
    "dt = 0.01 # time interval for loop animation, in seconds\n",
    "x0 = 0.0 # initial ball x-coordinate (metres)\n",
    "\n",
    "# input initial conditions (height, angle and speed)\n",
    "y0 = float(input(\"Input the initial height in metres: \"))\n",
    "dtheta = float(input(\"Input the initial angle in degrees: \"))\n",
    "theta = np.radians(dtheta)\n",
    "v0 = float(input(\"Input the initial speed in metres/second: \"))\n",
    "\n",
    "# start the animation\n",
    "ball = sphere(pos = vector(x0,y0,0),radius = 1,make_trail=True)\n",
    "t = 0 # initial time\n",
    "while t >= 0: # has the ball hit the ground yet?\n",
    "    # YOUR\n",
    "    # CODE\n",
    "    # HERE!\n"
   ]
  },
  {
   "cell_type": "markdown",
   "metadata": {},
   "source": [
    "If you choose to accept the challenge, leave your basic code as it is in the cell above, and copy and paste it into a new code cell below to use as the starting point for the challenge code."
   ]
  },
  {
   "cell_type": "code",
   "execution_count": null,
   "metadata": {
    "collapsed": true
   },
   "outputs": [],
   "source": []
  }
 ],
 "metadata": {
  "anaconda-cloud": {},
  "kernelspec": {
   "display_name": "Python 3",
   "language": "python",
   "name": "python3"
  },
  "language_info": {
   "codemirror_mode": {
    "name": "ipython",
    "version": 3
   },
   "file_extension": ".py",
   "mimetype": "text/x-python",
   "name": "python",
   "nbconvert_exporter": "python",
   "pygments_lexer": "ipython3",
   "version": "3.6.5"
  }
 },
 "nbformat": 4,
 "nbformat_minor": 1
}
