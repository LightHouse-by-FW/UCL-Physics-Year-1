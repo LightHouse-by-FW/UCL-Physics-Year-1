{
 "cells": [
  {
   "cell_type": "markdown",
   "metadata": {},
   "source": [
    "# Final Assignment\n",
    "\n",
    "## Frederico Wieser  December 2018\n",
    "\n",
    "In this final project we will be combining the ideas learned from the the disciplines of both Classical Mechanics and Programming to create a game which resembles huge similarities to that of \"Angry Birds\"."
   ]
  },
  {
   "cell_type": "code",
   "execution_count": 5,
   "metadata": {},
   "outputs": [
    {
     "data": {
      "application/javascript": [
       "if (typeof Jupyter !== \"undefined\") {require.undef(\"nbextensions/vpython_libraries/glow.min\");}else{element.textContent = ' ';}"
      ],
      "text/plain": [
       "<IPython.core.display.Javascript object>"
      ]
     },
     "metadata": {},
     "output_type": "display_data"
    },
    {
     "data": {
      "application/javascript": [
       "if (typeof Jupyter !== \"undefined\") {require.undef(\"nbextensions/vpython_libraries/glowcomm\");}else{element.textContent = ' ';}"
      ],
      "text/plain": [
       "<IPython.core.display.Javascript object>"
      ]
     },
     "metadata": {},
     "output_type": "display_data"
    },
    {
     "data": {
      "application/javascript": [
       "if (typeof Jupyter !== \"undefined\") {require.undef(\"nbextensions/vpython_libraries/jquery-ui.custom.min\");}else{element.textContent = ' ';}"
      ],
      "text/plain": [
       "<IPython.core.display.Javascript object>"
      ]
     },
     "metadata": {},
     "output_type": "display_data"
    },
    {
     "data": {
      "application/javascript": [
       "if (typeof Jupyter !== \"undefined\") {require([\"nbextensions/vpython_libraries/glow.min\"], function(){console.log(\"GLOW LOADED\");});}else{element.textContent = ' ';}"
      ],
      "text/plain": [
       "<IPython.core.display.Javascript object>"
      ]
     },
     "metadata": {},
     "output_type": "display_data"
    },
    {
     "data": {
      "application/javascript": [
       "if (typeof Jupyter !== \"undefined\") {require([\"nbextensions/vpython_libraries/glowcomm\"], function(){console.log(\"GLOWCOMM LOADED\");});}else{element.textContent = ' ';}"
      ],
      "text/plain": [
       "<IPython.core.display.Javascript object>"
      ]
     },
     "metadata": {},
     "output_type": "display_data"
    },
    {
     "data": {
      "application/javascript": [
       "if (typeof Jupyter !== \"undefined\") {require([\"nbextensions/vpython_libraries/jquery-ui.custom.min\"], function(){console.log(\"JQUERY LOADED\");});}else{element.textContent = ' ';}"
      ],
      "text/plain": [
       "<IPython.core.display.Javascript object>"
      ]
     },
     "metadata": {},
     "output_type": "display_data"
    },
    {
     "data": {
      "text/html": [
       "<div id=\"glowscript\" class=\"glowscript\"></div>"
      ],
      "text/plain": [
       "<IPython.core.display.HTML object>"
      ]
     },
     "metadata": {},
     "output_type": "display_data"
    },
    {
     "data": {
      "application/javascript": [
       "if (typeof Jupyter !== \"undefined\") { window.__context = { glowscript_container: $(\"#glowscript\").removeAttr(\"id\")};}else{ element.textContent = ' ';}"
      ],
      "text/plain": [
       "<IPython.core.display.Javascript object>"
      ]
     },
     "metadata": {},
     "output_type": "display_data"
    }
   ],
   "source": [
    "#Importing the libraries we will be needing in this notebook.\n",
    "import numpy as np\n",
    "#Importing the necessary VPython functions which we will be using in the program\n",
    "from vpython import sphere, color, rate, canvas, vector, curve, label, box, cross, mag, random, arrow"
   ]
  },
  {
   "cell_type": "markdown",
   "metadata": {},
   "source": [
    "# Seting up the game\n",
    "\n",
    "For the purposes of our game we will assume that 1 metre is the same as 1 screen unit. We will first begin by initialising the backdrop for our game..."
   ]
  },
  {
   "cell_type": "code",
   "execution_count": 6,
   "metadata": {},
   "outputs": [
    {
     "data": {
      "text/html": [
       "<div id=\"glowscript\" class=\"glowscript\"></div>"
      ],
      "text/plain": [
       "<IPython.core.display.HTML object>"
      ]
     },
     "metadata": {},
     "output_type": "display_data"
    },
    {
     "data": {
      "application/javascript": [
       "if (typeof Jupyter !== \"undefined\") { window.__context = { glowscript_container: $(\"#glowscript\").removeAttr(\"id\")};}else{ element.textContent = ' ';}"
      ],
      "text/plain": [
       "<IPython.core.display.Javascript object>"
      ]
     },
     "metadata": {},
     "output_type": "display_data"
    },
    {
     "ename": "NameError",
     "evalue": "name 'platform_length_half' is not defined",
     "output_type": "error",
     "traceback": [
      "\u001b[0;31m---------------------------------------------------------------------------\u001b[0m",
      "\u001b[0;31mNameError\u001b[0m                                 Traceback (most recent call last)",
      "\u001b[0;32m<ipython-input-6-a13613e920a0>\u001b[0m in \u001b[0;36m<module>\u001b[0;34m()\u001b[0m\n\u001b[1;32m     36\u001b[0m     \u001b[0;32mreturn\u001b[0m\u001b[0;34m;\u001b[0m\u001b[0;34m\u001b[0m\u001b[0m\n\u001b[1;32m     37\u001b[0m \u001b[0;34m\u001b[0m\u001b[0m\n\u001b[0;32m---> 38\u001b[0;31m \u001b[0mstart_game\u001b[0m\u001b[0;34m(\u001b[0m\u001b[0;34m)\u001b[0m\u001b[0;34m\u001b[0m\u001b[0m\n\u001b[0m",
      "\u001b[0;32m<ipython-input-6-a13613e920a0>\u001b[0m in \u001b[0;36mstart_game\u001b[0;34m()\u001b[0m\n\u001b[1;32m     14\u001b[0m \u001b[0;34m\u001b[0m\u001b[0m\n\u001b[1;32m     15\u001b[0m     \u001b[0;31m#Here We have finally defined our platform using the variables we have set above.\u001b[0m\u001b[0;34m\u001b[0m\u001b[0;34m\u001b[0m\u001b[0m\n\u001b[0;32m---> 16\u001b[0;31m     platform = curve(pos=[((-platform_length_half),platform_height,0),(platform_length_half,platform_height,0)], \n\u001b[0m\u001b[1;32m     17\u001b[0m                      color=color.white)\n\u001b[1;32m     18\u001b[0m \u001b[0;34m\u001b[0m\u001b[0m\n",
      "\u001b[0;31mNameError\u001b[0m: name 'platform_length_half' is not defined"
     ]
    }
   ],
   "source": [
    "def start_game():\n",
    "    #Setting the background of the whole game\n",
    "    scene = canvas(width=640,\n",
    "                   height=480,\n",
    "                   center=vector(8,5,0),range=8)\n",
    "\n",
    "    ground = curve(pos=[(0,0,0),(16,0,0)],\n",
    "                   color=color.green)\n",
    "    \n",
    "    #Implementing the platform into the scene\n",
    "\n",
    "    #First we set the variable \"platform_height\" to be equal to a random number between 1 and 0\n",
    "    platform_height = random()\n",
    "\n",
    "    #Here We have finally defined our platform using the variables we have set above.\n",
    "    platform = curve(pos=[((-platform_length_half),platform_height,0),(platform_length_half,platform_height,0)], \n",
    "                     color=color.white)\n",
    "    \n",
    "    #Setting the box or \"target\"\n",
    "\n",
    "    target = box(pos=vector(x_target_centre,y_target_centre,z_target_centre),\n",
    "                 length=target_length,\n",
    "                 height=target_height,\n",
    "                 width=target_width)\n",
    "\n",
    "    #Setting the bird\n",
    "\n",
    "    #Initial Position od the bird\n",
    "    bird_x0 = 0\n",
    "    bird_y0 = platform_height\n",
    "    bird_z0 = 0\n",
    "\n",
    "    bird = sphere(pos=vector(bird_x0, bird_y0, bird_z0),\n",
    "                  radius=bird_radius_animation, \n",
    "                  color=color.red)\n",
    "    return;\n",
    "\n",
    "start_game()"
   ]
  },
  {
   "cell_type": "markdown",
   "metadata": {},
   "source": [
    "We will also be needing a platform to launch our birds which will be done by using a random number generated between $ 0 $ and $ 1 $ to be the height of this platform, the platform will have an $ x $ coordinate value of $ x = 0 $."
   ]
  },
  {
   "cell_type": "markdown",
   "metadata": {},
   "source": [
    "We must then implement the \"bird\"(for this we will be using a sphere) and the \"target\"(for this we will be using a cuboid).\n",
    "\n",
    "The bird will have the following parameters... \n",
    "$radius = \n",
    "mass =$"
   ]
  },
  {
   "cell_type": "code",
   "execution_count": null,
   "metadata": {},
   "outputs": [],
   "source": [
    "#Implementing the platform into the scene\n",
    "\n",
    "#First we set the variable \"platform_height\" to be equal to a random number between 1 and 0\n",
    "platform_height = random()\n",
    "\n",
    "#We then set the variable \"platform_length_half\" to be equal to half of our desired platfrom length.\n",
    "platform_length_half = 0.5\n",
    "\n",
    "#Here We have finally defined our platform using the variables we have set above.\n",
    "platform = curve(pos=[((-platform_length_half),platform_height,0),(platform_length_half,platform_height,0)], \n",
    "                 color=color.white)"
   ]
  },
  {
   "cell_type": "markdown",
   "metadata": {},
   "source": [
    "We used the variable \"ran\" rather than puting two random() functions in our program because this way we could be certain that the random "
   ]
  },
  {
   "cell_type": "code",
   "execution_count": null,
   "metadata": {},
   "outputs": [],
   "source": [
    "#The parameters of the box\n",
    "\n",
    "#Random x-position between 5 and 15 metres from the origin\n",
    "\n",
    "x_random_centre = 10*random() + 5\n",
    "\n",
    "x_target_centre = x_random_centre\n",
    "y_target_centre = 1\n",
    "z_target_centre = 0\n",
    "target_length = 0.5\n",
    "target_height = 2\n",
    "target_width = 0.5\n",
    "\n",
    "target_mass = 100\n",
    "\n",
    "bird_mass = 0.1\n",
    "bird_radius_calculations = 0.05\n",
    "bird_radius_animation = 0.3\n"
   ]
  },
  {
   "cell_type": "code",
   "execution_count": null,
   "metadata": {},
   "outputs": [],
   "source": [
    "#Setting the box or \"target\"\n",
    "\n",
    "target = box(pos=vector(x_target_centre,y_target_centre,z_target_centre),\n",
    "             length=target_length,\n",
    "             height=target_height,\n",
    "             width=target_width)\n",
    "\n",
    "#Setting the bird\n",
    "\n",
    "#Initial Position od the bird\n",
    "bird_x0 = 0\n",
    "bird_y0 = platform_height\n",
    "bird_z0 = 0\n",
    "\n",
    "bird = sphere(pos=vector(bird_x0, bird_y0, bird_z0),\n",
    "              radius=bird_radius_animation, \n",
    "              color=color.red)"
   ]
  },
  {
   "cell_type": "code",
   "execution_count": null,
   "metadata": {},
   "outputs": [],
   "source": [
    "#User inputs values for angle of launch and velocity\n",
    "\n",
    "g = -9.81\n",
    "\n",
    "#angle0_degrees = float(input(\"What angle (degrees) would you like to launch your bird at? \"))\n",
    "angle0_degrees = 45\n",
    "angle0_radians = angle0_degrees * (np.pi / 180)\n",
    "angle0 = angle0_radians\n",
    "#v0 = float(input(\"What velocity (m/s) would you like to launch your bird at? \"))\n",
    "v0 = 2\n",
    "\n",
    "#The position vector of the bird\n",
    "r_x = bird_x0 + v0*t*np.cos(angle0)\n",
    "r_y = bird_y0 + v0*t*np.sin(angle0) - ((g*(t**2))/2)\n",
    "r = vector(r_x,r_y)\n",
    "\n",
    "#The momentum vector of the bird\n",
    "p_x = bird_mass*v0*np.cos(angle0)\n",
    "p_y = bird_mass*v0*np.sin(angle0) - bird_mass*g*t\n",
    "\n",
    "\n",
    "F_grav = target_mass * g\n",
    "\n",
    "#Restoring Torque\n",
    "\n",
    "x_rotational_centre = x_target_centre + target_length/2\n",
    "position_rotational_centre = vector(x_rotational_centre,\n",
    "                                    0,\n",
    "                                    0)\n",
    "\n",
    "position_centre_of_mass = vector(x_target_centre,\n",
    "                                 y_target_centre,\n",
    "                                 z_target_centre)\n",
    "\n",
    "horizontal_distance_rotational_mass = vector(x_rotational_centre - x_target_centre, \n",
    "                                             0,\n",
    "                                             0)\n",
    "\n",
    "#Now using the parameters inputed by the user we wil decide between two possible scenarios.\n",
    "#The bird hitting the target or the ball not hitting the target.\n",
    "#To do this we will use our S.U.V.A.T. equations\n",
    "\n",
    "exit = \"N\"\n",
    "\n",
    "while exit = \"N\":\n",
    "    x0 \n",
    "    if (r_x == x_target_centre - target_length/2 - bird_radius_calculations\n",
    "        and r_y >= 0\n",
    "        and r_y <= y_target_centre + target_height/2 + bird_radius_calculations):\n",
    "        \n",
    "    else:"
   ]
  },
  {
   "cell_type": "code",
   "execution_count": null,
   "metadata": {},
   "outputs": [],
   "source": []
  }
 ],
 "metadata": {
  "kernelspec": {
   "display_name": "Python 3",
   "language": "python",
   "name": "python3"
  },
  "language_info": {
   "codemirror_mode": {
    "name": "ipython",
    "version": 3
   },
   "file_extension": ".py",
   "mimetype": "text/x-python",
   "name": "python",
   "nbconvert_exporter": "python",
   "pygments_lexer": "ipython3",
   "version": "3.6.5"
  }
 },
 "nbformat": 4,
 "nbformat_minor": 2
}
