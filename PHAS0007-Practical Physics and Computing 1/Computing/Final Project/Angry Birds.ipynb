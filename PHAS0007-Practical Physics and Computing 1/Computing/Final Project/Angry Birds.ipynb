{
 "cells": [
  {
   "cell_type": "markdown",
   "metadata": {},
   "source": [
    "# An Angry Birds adaptation in Python using VPython: 18018699\n",
    "\n",
    "In the following Jupiter notebook we have used the Numpy and VPython libraries in order to create a game resembling the same mechanics as that of \"Angry Birds\". In the following notebook we begin by setting up our \"scene\" environment and \"ground\", which are going to be constant in all instances of the game. \n",
    "\n",
    "In the case of the game we will have our bird as being a Python ball object and our target as being a VPython cuboid object. We will then use the function \"random()\" in order to create a new and different environment for each time the game is loaded into a new instance. \n",
    "\n",
    "The main aim of the game is going to be to first input an initial speed and launch angle with the aim of hitting the target and causing it to topple over. If these initial parameters inputed by the user lead to the target not toppling over, due to the force from the bird not being large enough or the bird simply missing the target, then the game will restart in a new instance so that the user can have another chance of toppling the target\n",
    "\n",
    "To achieve this aim we will begin by defining some of the parameters of both our target and our bird, this includes things like the mass and parameters relating to the animation of the objects in our VPython scene. We will then define a function which will run a new instance of the game eveytime it is called.\n",
    "\n",
    "Each instance begins by setting new parameters using the \"random()\" function, which create new and original enviorments. Once those parameters are set the game will then ask for the user to input their initial velocity and angle of launch. Using the values inuted by the user, the program will then use a while fucntion to run the animation of the bird and calculate the path of the bird. Using the calcultions of the path the function will then use an if statement to test it the ball has hit the target. If the ball has hit the target we then refer to a nested if statement to test if this collision would cause the target to topple. If it does cause the target to topple, tha target will then be subject to rotate 90 degrees clockwise about the the bottom right corner. If it doesn't cause the target to topple or does not even hit the target this will lead to the program creating a new instance for the player to try again until they win a game."
   ]
  },
  {
   "cell_type": "code",
   "execution_count": 1,
   "metadata": {},
   "outputs": [
    {
     "data": {
      "application/javascript": [
       "require.undef(\"nbextensions/vpython_libraries/glow.min\");"
      ],
      "text/plain": [
       "<IPython.core.display.Javascript object>"
      ]
     },
     "metadata": {},
     "output_type": "display_data"
    },
    {
     "data": {
      "application/javascript": [
       "require.undef(\"nbextensions/vpython_libraries/glowcomm\");"
      ],
      "text/plain": [
       "<IPython.core.display.Javascript object>"
      ]
     },
     "metadata": {},
     "output_type": "display_data"
    },
    {
     "data": {
      "application/javascript": [
       "require.undef(\"nbextensions/vpython_libraries/jquery-ui.custom.min\");"
      ],
      "text/plain": [
       "<IPython.core.display.Javascript object>"
      ]
     },
     "metadata": {},
     "output_type": "display_data"
    },
    {
     "data": {
      "application/javascript": [
       "require([\"nbextensions/vpython_libraries/glow.min\"], function(){console.log(\"GLOW LOADED\");})"
      ],
      "text/plain": [
       "<IPython.core.display.Javascript object>"
      ]
     },
     "metadata": {},
     "output_type": "display_data"
    },
    {
     "data": {
      "application/javascript": [
       "require([\"nbextensions/vpython_libraries/glowcomm\"], function(){console.log(\"GLOWCOMM LOADED\");})"
      ],
      "text/plain": [
       "<IPython.core.display.Javascript object>"
      ]
     },
     "metadata": {},
     "output_type": "display_data"
    },
    {
     "data": {
      "application/javascript": [
       "require([\"nbextensions/vpython_libraries/jquery-ui.custom.min\"], function(){console.log(\"JQUERY LOADED\");})"
      ],
      "text/plain": [
       "<IPython.core.display.Javascript object>"
      ]
     },
     "metadata": {},
     "output_type": "display_data"
    },
    {
     "data": {
      "text/html": [
       "<div id=\"glowscript\" class=\"glowscript\"></div>"
      ],
      "text/plain": [
       "<IPython.core.display.HTML object>"
      ]
     },
     "metadata": {},
     "output_type": "display_data"
    },
    {
     "data": {
      "application/javascript": [
       "window.__context = { glowscript_container: $(\"#glowscript\").removeAttr(\"id\")}"
      ],
      "text/plain": [
       "<IPython.core.display.Javascript object>"
      ]
     },
     "metadata": {},
     "output_type": "display_data"
    },
    {
     "data": {
      "text/html": [
       "<div id=\"glowscript\" class=\"glowscript\"></div>"
      ],
      "text/plain": [
       "<IPython.core.display.HTML object>"
      ]
     },
     "metadata": {},
     "output_type": "display_data"
    },
    {
     "data": {
      "application/javascript": [
       "window.__context = { glowscript_container: $(\"#glowscript\").removeAttr(\"id\")}"
      ],
      "text/plain": [
       "<IPython.core.display.Javascript object>"
      ]
     },
     "metadata": {},
     "output_type": "display_data"
    },
    {
     "name": "stdout",
     "output_type": "stream",
     "text": [
      "What velocity (m/s) would you like to launch your bird at? 20\n",
      "What angle (degrees) would you like to launch your bird at? 40\n",
      "Sorry you did not hit the target. You will now be trying again.\n"
     ]
    },
    {
     "data": {
      "text/html": [
       "<div id=\"glowscript\" class=\"glowscript\"></div>"
      ],
      "text/plain": [
       "<IPython.core.display.HTML object>"
      ]
     },
     "metadata": {},
     "output_type": "display_data"
    },
    {
     "data": {
      "application/javascript": [
       "window.__context = { glowscript_container: $(\"#glowscript\").removeAttr(\"id\")}"
      ],
      "text/plain": [
       "<IPython.core.display.Javascript object>"
      ]
     },
     "metadata": {},
     "output_type": "display_data"
    },
    {
     "name": "stdout",
     "output_type": "stream",
     "text": [
      "What velocity (m/s) would you like to launch your bird at? 19\n",
      "What angle (degrees) would you like to launch your bird at? 10\n",
      "Congratulations you won the game!!! :)\n",
      "The height of the impact point was 1.40822017945 metres.\n",
      "The bird’s momentum at the point of impact was 1.8726715643630474 kg m/s.\n",
      "The applied torque <0, -0, 267.593> Nm.\n",
      "The magnitude of the restoring torque 245.25 Nm.\n"
     ]
    }
   ],
   "source": [
    "#Importing the libraries we will be needing in this notebook.\n",
    "import numpy as np\n",
    "#Importing the necessary VPython functions which we will be using in the program\n",
    "from vpython import sphere, color, rate, canvas, vector, curve, label, box, cross, mag, random, arrow\n",
    "\n",
    "###PARAMETERS###\n",
    "\n",
    "#Defining the small change in time which will be used in the animations of the bird\n",
    "dt = 0.001\n",
    "\n",
    "#Gravitaitonal acceleration of the Earth\n",
    "g = -9.81#metres/sec^2, 2.d.p.\n",
    "\n",
    "#Dimensions of the target\n",
    "target_length = 0.5 #metres\n",
    "target_height = 2 #metres\n",
    "target_width = 0.5 #metres\n",
    "target_mass = 100 #kg\n",
    "\n",
    "#Parameters of the platform\n",
    "platform_length_half = 0.5 #metres\n",
    "\n",
    "#The parameters of the bird\n",
    "bird_mass = 0.1 #kg\n",
    "bird_radius_calculations = 0.05 #metres. This radius will be used in all the back-end calculations.\n",
    "bird_radius_animation = 0.3 #metres. This radius will be used when showing the bird in animations.\n",
    "\n",
    "#TIme for the collision between the bird and the target\n",
    "delta_t_collision = 0.01 #sec\n",
    "\n",
    "#The function which initialises an instance of the game\n",
    "def game():\n",
    "    \n",
    "    #Creating the background of the whole game\n",
    "    scene = canvas(width=640, \n",
    "                   height=480,\n",
    "                   center=vector(8,5,0),\n",
    "                   range=8)\n",
    "\n",
    "    #Creating the ground\n",
    "    ground = curve(pos=[(0,0,0),(16,0,0)],\n",
    "                       color=color.green)\n",
    "    \n",
    "    #This statement will be used as a way to leave the game and end the program once the user has won.\n",
    "    want_to_play = True\n",
    "    \n",
    "    while want_to_play == True: \n",
    "        #Creaing Platform for the bird\n",
    "        #First we set the variable \"platform_height\" to be equal to a random number between 1 and 0\n",
    "        platform_height = random()\n",
    "\n",
    "        #Here We have finally defined our platform using the variables we have set above.\n",
    "        platform = curve(pos=[((-platform_length_half),platform_height,0),(platform_length_half,platform_height,0)], \n",
    "                         color=color.white)\n",
    "\n",
    "        #Target parameters\n",
    "        x_random_centre = 10*random() + 5 #metres \n",
    "        target_x_centre = x_random_centre #metres\n",
    "        target_y_centre = target_height/2 #metres\n",
    "        target_z_centre = 0 #metres\n",
    "        target_position_vector = vector(target_x_centre, target_y_centre, target_z_centre)\n",
    "\n",
    "        #Create target\n",
    "        target = box(pos=target_position_vector,\n",
    "                     length=target_length,\n",
    "                     height=target_height,\n",
    "                     width=target_width)\n",
    "\n",
    "        #Initial Position of the bird\n",
    "        bird_x0 = 0 #metres\n",
    "        bird_y0 = platform_height + bird_radius_calculations #metres\n",
    "        bird_z0 = 0 #metres\n",
    "\n",
    "        #Create bird\n",
    "        bird = sphere(pos=vector(bird_x0, bird_y0, bird_z0),\n",
    "                      radius=bird_radius_animation, \n",
    "                      color=color.red, \n",
    "                      make_trail = True)\n",
    "        \n",
    "        #Initialising the parameters used to to define the position of the bird\n",
    "        bird_x = bird_x0\n",
    "        bird_y = bird_y0\n",
    "        bird_z = bird_z0\n",
    "        \n",
    "        #Create Momentum vector\n",
    "        momentum_vec = arrow(pos = vector(bird_x,bird_y,bird_z),\n",
    "                      shaftwidth= 0.1,\n",
    "                      color=color.blue)\n",
    "\n",
    "        #We will now ask the user for the values for the initial velocity of the bird\n",
    "        v0 = float(input(\"What velocity (m/s) would you like to launch your bird at? \"))\n",
    "        angle0_degrees = float(input(\"What angle (degrees) would you like to launch your bird at? \"))\n",
    "        angle0_radians = angle0_degrees * (np.pi / 180)\n",
    "        angle0 = angle0_radians\n",
    "        \n",
    "        #We will seperate this initial velocity into its horizontal(x) and vertical(y) components \n",
    "        v_x0 = v0 * np.cos(angle0) #m/s\n",
    "        v_y0 = v0 * np.sin(angle0) #m/s\n",
    "        \n",
    "        #Before we begin the animation we must set the time \"t\" equal to 0\n",
    "        t = 0 #sec\n",
    "        \n",
    "        #For the animation of the ball we will use this while function to calculate the path of the bird\n",
    "        while bird_x <= (target_x_centre - target_length/2 - bird_radius_calculations) and bird_y > 0:\n",
    "\n",
    "            #The rate at which the animation runs at\n",
    "            rate(250)\n",
    "\n",
    "            #Here we are updating the time for every itteration through the while loop by a small\n",
    "            #amount od time dt\n",
    "            t = t + dt #sec\n",
    "\n",
    "            #Using the updated time to calculate the velocity of the bird at that moment in time\n",
    "            v_x = v_x0 #m/s, horizontal component \n",
    "            v_y = v_y0 + g*t #m/s, vertical component \n",
    "\n",
    "            #Calculating the new x and y position values of the bird\n",
    "            bird_x = bird_x0 + v_x0 * t #metres, horizontal component \n",
    "            bird_y = bird_y0 + v_y0 * t  + ((0.5*g*(t**2))) #metres, vertical component\n",
    "\n",
    "            #Updating the position vector of the bird\n",
    "            bird.pos = vector(bird_x,bird_y,bird_z)\n",
    "            \n",
    "            #Updating the momentum values in the x and y directions\n",
    "            p_x = bird_mass * v_x #kg m/s, horizontal component \n",
    "            p_y = bird_mass * v_y #kg m/s, vertical component\n",
    "\n",
    "            #Updating the momentum vector arrow with the bird's new position and new momentum values\n",
    "            momentum_vec.pos = bird.pos\n",
    "            momentum_vec.axis = vector(p_x,p_y,0)\n",
    "\n",
    "        #If statement to check if the bird's path causes it to hit the target\n",
    "        if bird_y < target_height + bird_radius_calculations and bird_y > 0:\n",
    "            \n",
    "            ###YES it does hit the target###\n",
    "            \n",
    "            #Horizontal distance between the point of rotation and the centre of mass.\n",
    "            d_r = vector((0.5*target_width),0,0)\n",
    "            #The vector representing the weight of the target\n",
    "            F_grav = vector(0,(target_mass*g),0)\n",
    "            #Calculating the restoring torque of the target\n",
    "            T_restoring = cross(F_grav,d_r)\n",
    "            \n",
    "            #Vector from the point of rotation to the point of impact\n",
    "            d_a = bird.pos - (target.pos - vector(-target_length/2, target_height/2, 0))\n",
    "            #Force applied by the change in momentum of the target, through the bird transfering all it's momentum to the target\n",
    "            F_applied = vector(p_x,p_y,0) / delta_t_collision\n",
    "            #Calculating the applied torque on the target\n",
    "            T_applied = cross(F_applied,d_a)\n",
    "            \n",
    "            #If statement to check if the bird after hitting the target would topple the target.\n",
    "            if mag(T_applied) > mag(T_restoring):\n",
    "                \n",
    "                ###It WOULD topple the target###\n",
    "                \n",
    "                #Since the applied torque's magnitude exceeds that of the restoring torque this means that target will topple\n",
    "                #to animate the toppling and show the user this we will use the \"rotate\" function to rotate the target to a position where\n",
    "                #it has been toppled.\n",
    "                target.rotate(angle=-np.pi/2,\n",
    "                              axis=vector(0,0,1),\n",
    "                              origin=(target.pos + vector(target_length/2,-target_y_centre,0)))\n",
    "                \n",
    "                print(\"Congratulations you won the game!!! :)\")\n",
    "                \n",
    "                #Printing facts about the collision\n",
    "                print(\"The height of the impact point was \" + str(bird_y) + \" metres.\")\n",
    "                print(\"The bird’s momentum at the point of impact was \" + str(mag(vector(p_x,p_y,0))) + \" kg m/s.\")\n",
    "                print(\"The applied torque \" + str(T_applied) + \" Nm.\")\n",
    "                print(\"The magnitude of the restoring torque \" + str(mag(T_restoring)) + \" Nm.\")\n",
    "                \n",
    "                #Ending the program by setting want_to_play to False, ending the while loop.\n",
    "                want_to_play = False\n",
    "            \n",
    "            else:                \n",
    "                 \n",
    "                ###It WOULD'NT topple the target###\n",
    "\n",
    "                print(\"Sorry you did not hit the target at a high enough speed. You will now be trying again.\")\n",
    "                #Starting new instance of the game for the user to retry\n",
    "                game()\n",
    "        \n",
    "        else:\n",
    "            \n",
    "            ###NO it does not hit the target###\n",
    "            \n",
    "            print(\"Sorry you did not hit the target. You will now be trying again.\")\n",
    "            #Starting new instance of the game for the user to retry\n",
    "            game()\n",
    "        \n",
    "        #Ending the function\n",
    "        return;\n",
    "\n",
    "#Running the function   \n",
    "game()"
   ]
  },
  {
   "cell_type": "markdown",
   "metadata": {},
   "source": [
    "# Conclusion\n",
    "\n",
    "## How you would suggest improving the representation of the physics in the game?\n",
    "\n",
    "In the case of this game we have assumed that if the bird hits the target that all of the momentum is transfered to the target as well as the the collision being completely elastic. This is not an accurate representation of a real world scenario since most collisions are not totally elastic but rather inelastic. We have also excluded the fact that in a real world scenario most bodies travelling through air will have their path significantly effected by the air resistance.\n",
    "\n",
    "We have also not accurately animated the toppling of the target itself. We have instead simply forced the target to rotate once the applied torque exceeds the restoring torque. This does not accurately show how this would happen in the real world, with the speed at which the target topples being dependent on how much the restoring torque was exceeded. We have also not animated the case in which the restoring torque exceeds the applied torque as the target begins to rotate slightly and then goes back to it's original position.\n",
    "\n",
    "## How you might go about implementing these improvements in Python?\n",
    "\n",
    "Implementing the air resistance would come from using the fact that their is a force $ F_{air} = -\\beta v $. This force is directly in opposition to the motion of the bird. By using an accepted value of $ \\beta $ and then taking horizonatal and vertical components of the force we can then accodunt for this force. Dividing the force by the mass of the bird to get acceleration terms which will then be used in the calculations of the velocity, and also position of the ball $ a_{air} = \\frac{-\\beta v}{m_{bird}} $.\n",
    "\n",
    "The toppling can be accounted for by using the rotate function in itterations inside of a while loop after having calculeted the time taken for the target to topple ."
   ]
  }
 ],
 "metadata": {
  "kernelspec": {
   "display_name": "Python 3",
   "language": "python",
   "name": "python3"
  },
  "language_info": {
   "codemirror_mode": {
    "name": "ipython",
    "version": 3
   },
   "file_extension": ".py",
   "mimetype": "text/x-python",
   "name": "python",
   "nbconvert_exporter": "python",
   "pygments_lexer": "ipython3",
   "version": "3.6.1"
  }
 },
 "nbformat": 4,
 "nbformat_minor": 2
}
