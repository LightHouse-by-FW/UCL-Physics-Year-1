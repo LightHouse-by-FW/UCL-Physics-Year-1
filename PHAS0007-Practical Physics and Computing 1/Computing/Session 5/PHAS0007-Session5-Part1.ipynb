{
 "cells": [
  {
   "cell_type": "markdown",
   "metadata": {},
   "source": [
    "# PHAS0007 Session 5: Notebook 1\n",
    "# Fitting data with a least-squares fit: Theory\n",
    "\n",
    "louise.dash@ucl.ac.uk Last updated 16.10.2018 \n",
    "\n",
    "\n",
    "### Learning objectives\n",
    "By the end of this session, you should understand the principles of linear least-squares fitting, and be able to produce and plot your own straight-line fit to some data.\n",
    "\n",
    "## Contents\n",
    "This Session has been split into two separate notebooks. This one covers the theory of least squares fitting, the second covers implementing this in Python (and details of the task for this session).\n",
    "\n"
   ]
  },
  {
   "cell_type": "markdown",
   "metadata": {},
   "source": [
    "#  The theory behind least-squares fitting\n",
    "\n",
    "Imagine that we've successfully recorded some experimental data in our lab book, and plotted it on a beautiful graph. \n",
    "\n",
    "Now we want to find the best possible straight line through it.  How do we go about this? Before we can implement this in Python, we need to understand the underlying maths - this is also covered in Dr Bartlett's Data Analysis lectures, so this should be a review of stuff you've already met.\n",
    "\n",
    "A straight line has the equation\n",
    "\n",
    " $$y = mx + c$$\n",
    "\n",
    "where $m$ is the slope / gradient of the line, and $c$ the intercept with the $y$-axis.\n",
    "\n",
    "Imagine we have n pairs of data points:\n",
    "\n",
    "$$(x_1, y_1), (x_2, y_2), (x_3, y_3), \\ldots, (x_n, y_n) $$\n",
    "\n",
    "We can plot these, and then draw a straight line through them (for the moment this isn't necessarily the best straight line, just any old straight line, this is to illustrate the principle):\n",
    "\n",
    "<img src=\"./Leastsquaresfit-animline.gif\" width=400>\n",
    "\n",
    "(if you can't see the image, make sure you've also downloaded the image file(s) from Moodle and they are in the same directory as this notebook)"
   ]
  },
  {
   "cell_type": "markdown",
   "metadata": {},
   "source": [
    "For each point, we can then measure the vertical distance $\\Delta y$ between the data point and the line - note that some of these will be positive, and some negative. We can write this mathematically as\n",
    "\n",
    "$$\\Delta y = y_i - mx - c$$\n",
    "\n",
    "Now, if we were to add up all these deviations to use as a measure of goodness of fit of the line, we'd have a problem, because many of the positive and negative values would cancel out. Instead, we need to find a positive number that will account for all the deviations.\n",
    "\n",
    "We therefore take the square of each deviation and add them all up:\n",
    "\n",
    "$$S = \\sum(y_i - mx_i -c)^2$$\n",
    "\n",
    "<img src=\"./LeastSquares-Squares.gif\" width=400>"
   ]
  },
  {
   "cell_type": "markdown",
   "metadata": {},
   "source": [
    "The best straight-line fit to our data will then be the one with the smallest value of $S$: i.e.  the one whose sum of all the squares is least.\n",
    "\n",
    "So how do we find this best fit line? Mathematically, we can minimise $S$ with respect to our fit parameters $c$ and $m$:\n",
    "\n",
    "$$\\frac{\\partial S}{\\partial m} = -2 \\sum x_i(y_i - mx_i - c) = 0$$\n",
    "\n",
    "$$ \\frac{\\partial S}{\\partial c} = -2 \\sum (y_i - mx_i - c) = 0 $$\n",
    "\n",
    "As we need to minimize both of these, we end up with two simultaneous equations:\n",
    "\n",
    "$$ m \\sum x_i ^2 + c \\sum x_i = \\sum x_i y_i $$\n",
    "\n",
    "$$ m \\sum x_i + n c = \\sum y_i $$\n",
    "\n",
    "(remember, $n$ is the number of data pairs in the set)\n",
    "\n",
    "Solving these gives us\n",
    "\n",
    "$$ m = \\frac{\\sum(x_i - \\bar{x}) y_i}{\\sum (x_i - \\bar{x})^2} = \\frac{\\sum x_i (y_i - \\bar{y})}{\\sum x_i (x_i - \\bar{x})} $$\n",
    "\n",
    "$$ c = \\bar{y} - m \\bar{x} $$\n",
    "\n",
    "where $ \\bar{x} = \\frac{1}{n} \\sum x_i$ and $\\bar{y} = \\frac{1}{n} \\sum y_i$, i.e. the mean values of the data."
   ]
  },
  {
   "cell_type": "markdown",
   "metadata": {},
   "source": [
    "## The leastsquaresfitometer"
   ]
  },
  {
   "cell_type": "markdown",
   "metadata": {},
   "source": [
    "These equations can be a bit abstract - it's easier to understand if we can visualise it. To help with this, I wrote a code that lets you interactively change the parameters of a straight line to see how the squares of the residuals change. This is an updated version of the visualisation you saw in the screencast.\n",
    "\n",
    "Move the two sliders for the slope and intercept around and you will see the straight line moving, and the size of the squares changing. The initial position of the line is close to, but not exactly, the best possible fit. Play with this, and adjust the sliders until you find the best fit - that which minimizes the sum of the areas of the squares.\n",
    "\n",
    "If you don't see the plot and sliders below, run \"Run all\" from the \"Cell\" menu."
   ]
  },
  {
   "cell_type": "code",
   "execution_count": 1,
   "metadata": {},
   "outputs": [
    {
     "data": {
      "text/html": [
       "<script>\n",
       "code_show=true; \n",
       "function code_toggle() {\n",
       " if (code_show){\n",
       " $('div.input').hide();\n",
       " } else {\n",
       " $('div.input').show();\n",
       " }\n",
       " code_show = !code_show\n",
       "} \n",
       "$( document ).ready(code_toggle);\n",
       "</script>\n",
       "This cell (and the whole notebook) doesn't display the code by default, as it's the interactive plot I'd like you to play around with. \n",
       "If you do want to look at the code itself, you can toggle it on/off by clicking <a href=\"javascript:code_toggle()\">here</a>.\n",
       "(We will be looking more at how to create interactive plots after Reading week.)"
      ],
      "text/plain": [
       "<IPython.core.display.HTML object>"
      ]
     },
     "execution_count": 1,
     "metadata": {},
     "output_type": "execute_result"
    }
   ],
   "source": [
    "# script in this cell is from http://blog.nextgenetics.net/?e=102\n",
    "from IPython.display import HTML\n",
    "\n",
    "HTML('''<script>\n",
    "code_show=true; \n",
    "function code_toggle() {\n",
    " if (code_show){\n",
    " $('div.input').hide();\n",
    " } else {\n",
    " $('div.input').show();\n",
    " }\n",
    " code_show = !code_show\n",
    "} \n",
    "$( document ).ready(code_toggle);\n",
    "</script>\n",
    "This cell (and the whole notebook) doesn't display the code by default, as it's the interactive plot I'd like you to play around with. \n",
    "If you do want to look at the code itself, you can toggle it on/off by clicking <a href=\"javascript:code_toggle()\">here</a>.\n",
    "(We will be looking more at how to create interactive plots after Reading week.)''')"
   ]
  },
  {
   "cell_type": "code",
   "execution_count": 1,
   "metadata": {
    "scrolled": false
   },
   "outputs": [
    {
     "data": {
      "application/vnd.jupyter.widget-view+json": {
       "model_id": "3a8c4f3d7f4b4cbf828d5ea13d0bd61e",
       "version_major": 2,
       "version_minor": 0
      },
      "text/plain": [
       "interactive(children=(FloatSlider(value=0.899, description='slope', max=1.4, min=0.4, step=0.001), FloatSlider…"
      ]
     },
     "metadata": {},
     "output_type": "display_data"
    }
   ],
   "source": [
    "import numpy as np\n",
    "import matplotlib.pyplot as plt\n",
    "from matplotlib.patches import Rectangle\n",
    "from matplotlib.collections import PatchCollection\n",
    "\n",
    "from ipywidgets import interactive # Anaconda version 2.4+\n",
    "from IPython.display import display\n",
    "\n",
    "# widgets don't work well with notebook backend, so use:\n",
    "%matplotlib inline\n",
    "\n",
    "### set \"data\"\n",
    "# For this visualization, best if slope ~ 1\n",
    "# feel free to vary the values!\n",
    "x = np.array([10,20,30,40,50])\n",
    "y = np.array([14.3,20.68,33.1,42,47.7])\n",
    "\n",
    "\n",
    "### Fit the data\n",
    "\n",
    "mean_x = np.mean(x)\n",
    "mean_y = np.mean(y)\n",
    "slope = np.sum((x - mean_x)*y) / np.sum((x - mean_x)*x)\n",
    "intercept = mean_y - slope*mean_x\n",
    "sum_of_squares = np.sum((y - slope*x - intercept)**2)\n",
    "\n",
    "\n",
    "# initialize, only once\n",
    "# basic information from the data\n",
    "x_min = np.min(x)\n",
    "x_max = np.max(x)\n",
    "y_min = np.min(y)\n",
    "y_max = np.max(y)\n",
    "\n",
    "\n",
    "### Now the main plotting function ###\n",
    "def plotsquares(slope,intercept):\n",
    "    '''Function that plots data and squares for a given slope and intercept'''\n",
    "    fig = plt.figure(figsize=(8,8))\n",
    "    plt.rc(\"font\", size=14) # increase default font size\n",
    "    ax = fig.add_subplot(111, aspect='equal') # need this to use add_artist\n",
    "\n",
    "    # generate a list of x-points for the fitted line\n",
    "    # straight line only needs 2 points, but we'll do more.\n",
    "    x_points = np.linspace(0,x_max*2.,2)\n",
    "    y_points = slope*x_points + intercept\n",
    "\n",
    "    plt.plot(x, y, 'ro')\n",
    "    plt.line, = plt.plot(x_points, y_points, 'g-') #nb use of comma\n",
    "    #plt.xlim(0.8*x_min,1.1*x_max)\n",
    "    #plt.ylim(0.8*y_min,1.1*y_max)\n",
    "    plt.xlim(0,1.5*x_max)\n",
    "    plt.ylim(0,1.5*y_max)\n",
    "    plt.xlabel('x')\n",
    "    plt.ylabel('y')\n",
    "    plt.title('Interactive least-squares fit')\n",
    "    \n",
    "    sum_of_squares = np.sum((y - slope*x - intercept)**2)\n",
    "    plt.text(5,65, \"Sum of squares is {0:0.3f}\".format(sum_of_squares))\n",
    "    plt.text(5,60, \"Slope is {0:0.3f}\".format(slope))\n",
    "    plt.text(5,55, \"Intercept is {0:0.3f}\".format(intercept))\n",
    "\n",
    "    ###  set up the squares for the initial plot\n",
    "    sqcol = '#99b267'\n",
    "    patches = []\n",
    "    for xx,yy in zip(x,y):\n",
    "        # calculate vertical distance from datapoint to line\n",
    "        dist = yy - (slope*xx + intercept)\n",
    "        if slope > 0:\n",
    "            if dist > 0:\n",
    "                # datapoint is TOP RIGHT of the square\n",
    "                posx = xx-dist\n",
    "                posy = yy-dist\n",
    "                wid = dist\n",
    "                hei = dist\n",
    "            else: # dist is negative\n",
    "                # datapoint is BOTTOM LEFT of the square\n",
    "                posx = xx\n",
    "                posy = yy\n",
    "                wid = -dist\n",
    "                hei = -dist\n",
    "        else: #slope is negative\n",
    "            if dist > 0:\n",
    "                # datapoint is TOP LEFT of the square\n",
    "                posx = xx\n",
    "                posy = yy - dist\n",
    "                wid = dist\n",
    "                hei = dist\n",
    "            else: # dist is negative\n",
    "                # datapoint is BOTTOM RIGHT of the square\n",
    "                posx = xx+dist\n",
    "                posy = yy\n",
    "                wid = -dist\n",
    "                hei = -dist\n",
    "\n",
    "        square = Rectangle(xy=(posx,posy), width=wid, height=hei)\n",
    "        patches.append(square)\n",
    "\n",
    "    sq_collection = PatchCollection(patches, alpha=0.4)\n",
    "    #sq_collection.set_array(np.array(colors))\n",
    "    ax.add_collection(sq_collection)\n",
    "    plt.show()\n",
    "\n",
    "## Calculate and display the interactive plot ##\n",
    "interplot = interactive(plotsquares, slope=(0.4, 1.4, 0.001), intercept=(2.0,8.0,0.001))\n",
    "display(interplot)\n"
   ]
  },
  {
   "cell_type": "markdown",
   "metadata": {},
   "source": [
    "Once you're fairly sure you've grasped the basic principles here (you'll need to implement the equations for $m$ and $c$ in the task, but **you won't need to plot the residuals or the squares themselves**), proceed to the second notebook, which will guide you through implementing a simple linear least-squares fit in Python."
   ]
  }
 ],
 "metadata": {
  "anaconda-cloud": {},
  "kernelspec": {
   "display_name": "Python 3",
   "language": "python",
   "name": "python3"
  },
  "language_info": {
   "codemirror_mode": {
    "name": "ipython",
    "version": 3
   },
   "file_extension": ".py",
   "mimetype": "text/x-python",
   "name": "python",
   "nbconvert_exporter": "python",
   "pygments_lexer": "ipython3",
   "version": "3.6.5"
  },
  "widgets": {
   "state": {
    "8c9762cda5b74534b33bd8f491d215f8": {
     "views": [
      {
       "cell_index": 7
      }
     ]
    }
   },
   "version": "1.2.0"
  }
 },
 "nbformat": 4,
 "nbformat_minor": 1
}
