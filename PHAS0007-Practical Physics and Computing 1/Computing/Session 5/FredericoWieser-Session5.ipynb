{
 "cells": [
  {
   "cell_type": "markdown",
   "metadata": {},
   "source": [
    "# Using Matplotlib to plot a trend line for Na ions in soda lime silicate glass using a least-squares fit method.\n",
    "## Frederico Wieser 2/11/18\n",
    "\n",
    "In this notebook we will be using the Matplotlib and Numpy libraries to plot Na ions in soda lime silicate glass using a least-squares fit method. We will be doing this by using the data given to us on the CSV files.\n"
   ]
  },
  {
   "cell_type": "code",
   "execution_count": 1,
   "metadata": {},
   "outputs": [],
   "source": [
    "import numpy as np #Importing the Numpy Library.\n",
    "import matplotlib.pyplot as plt #Importing the Matplotlib Library.\n",
    "\n",
    "#Importing the CSV file into 2 seperate arrays.\n",
    "#Where time is actually simulated time in picoseconds, and where mean square displacement is (10^-20 m^2)\n",
    "time_pico, mean_square_displacement = np.loadtxt('Session5data.csv', unpack=True, delimiter=\",\")\n",
    "\n",
    "#Shortening the variable names for the sake of ease and in writing program.\n",
    "t = time_pico\n",
    "m2d = mean_square_displacement"
   ]
  },
  {
   "cell_type": "markdown",
   "metadata": {},
   "source": [
    "In the code above we have imported all 2 columns from the CSV file as 2 seperate arrays. It is neccessary in this program to use the ' delimiter=\",\" ' since if we were not to use it Numpy would be trying to read our CSV file as a sting rather than an array, leading to an error since the arrays must have floats only."
   ]
  },
  {
   "cell_type": "markdown",
   "metadata": {},
   "source": [
    "# Application of Least Squares Method on Na ions in soda lime silicate glass"
   ]
  },
  {
   "cell_type": "code",
   "execution_count": 2,
   "metadata": {},
   "outputs": [],
   "source": [
    "#Seting up equations least-squares fit method equations.\n",
    "#m = the gradient of the line of best fit\n",
    "#c = the y-intercept of the line of best fit\n",
    "\n",
    "#Fit the data\n",
    "mean_t = np.mean(t)\n",
    "mean_m2d = np.mean(m2d)\n",
    "m = np.sum((t - mean_t)*m2d) / np.sum((t - mean_t)*t) \n",
    "c = mean_m2d - m*mean_t\n",
    "sum_of_squares = np.sum((m2d - m*t - c)**2)\n",
    "\n",
    "#calcualting min. and max. values from the raw data\n",
    "t_min = np.min(t)\n",
    "t_max = np.max(t)\n",
    "m2d_min = np.min(m2d)\n",
    "m2d_max = np.max(m2d)\n"
   ]
  },
  {
   "cell_type": "markdown",
   "metadata": {},
   "source": [
    "Equation for gradient using the least squares method where instead of x we use time and instead y we use mean square distance.\n",
    "\n",
    "1) $$ m = \\frac{\\sum(x_i - \\bar{x}) y_i}{\\sum (x_i - \\bar{x})^2} = \\frac{\\sum x_i (y_i - \\bar{y})}{\\sum x_i (x_i - \\bar{x})} $$ \n",
    "\n",
    "Equation of y-intercept.\n",
    "\n",
    "2) $$ c = \\bar{y} - m \\bar{x} $$"
   ]
  },
  {
   "cell_type": "code",
   "execution_count": 3,
   "metadata": {},
   "outputs": [],
   "source": [
    "di = m2d - m*t - c #Using equation 3\n",
    "D = np.sum((t - mean_t)*t) #Using equation 4\n",
    "n = (np.sum(m2d) - m*np.sum(t))/c #Using equation 5\n",
    "delta_m = np.sqrt((1/D)*(np.sum(di**2)/(n-2))) #Using equation 6 to calculate gradient ucnertainty\n",
    "delta_c = np.sqrt(((1/n)+((mean_t**2)/D))*(np.sum(di**2)/(n-2))) #Using equation 7 to calculate intercept uncertainty"
   ]
  },
  {
   "cell_type": "markdown",
   "metadata": {},
   "source": [
    "3) $$ d_i = y_i - mx_i - c $$\n",
    "\n",
    "4) $$ D = \\sum x_i (x_i - \\bar{x}) $$\n",
    "\n",
    "5) $$ n = \\frac{\\sum{y_i}-m\\sum{x_i}}{c} $$\n",
    "\n",
    "Equations used for the uncertainties of the gradient and the intercept, respectively.\n",
    "\n",
    "6) $$ \\Delta m = \\sqrt{\\frac{\\sum d_i^2}{D(n-2)}}$$\n",
    "\n",
    "7) $$ \\Delta c = \\sqrt{(\\frac{1}{n} + \\frac{\\bar{x}^2}{D})\\frac{\\sum d_i^2}{(n-2)}}$$"
   ]
  },
  {
   "cell_type": "markdown",
   "metadata": {},
   "source": [
    "# Plotting Graph"
   ]
  },
  {
   "cell_type": "code",
   "execution_count": 4,
   "metadata": {},
   "outputs": [
    {
     "name": "stdout",
     "output_type": "stream",
     "text": [
      "y = (2.02 +/- 0.00105)(10^-8 m^2 s^-1)x + (6.51 +/- 0.0369)(10^-20 m^2).\n"
     ]
    },
    {
     "data": {
      "image/png": "[encoded data removed]",
      "text/plain": [
       "<Figure size 432x288 with 1 Axes>"
      ]
     },
     "metadata": {},
     "output_type": "display_data"
    }
   ],
   "source": [
    "x = np.linspace(28,42) #Defining an arbitrary variable x to use in plotting our \n",
    "y = m*x + c\n",
    "\n",
    "#Starting a new figure\n",
    "plt.figure()\n",
    "plt.scatter(t, m2d, label=\"Data\", marker=\"x\") #Plots time vs mean square displacement\n",
    "plt.plot(x, y, label=\"Line of Best Fit\", c=\"r\")\n",
    "plt.grid(True) #Plots a grip in the backdrop of the data to give reference for the user.\n",
    "plt.legend() #Gives a small key for the reader to easily tell what data is for which crystal.\n",
    "plt.title(\"Computational Time against Mean Square Displacement\") #Setting the title of graph.\n",
    "plt.xlabel(\"simulation time (10^-12 seconds)\") #Setting the x-axis label.\n",
    "plt.ylabel(\"mean square displacement (10^-20 m^2)\") #Setting the y-axis label.\n",
    "print(\"y = ({0:0.2f} +/- {1:0.5f})(10^-8 m^2 s^-1)x + ({2:0.2f} +/- {3:0.4f})(10^-20 m^2).\".format(m,delta_m,c,delta_c))"
   ]
  },
  {
   "cell_type": "markdown",
   "metadata": {},
   "source": [
    "# Calculating The Diffusion Coefficient"
   ]
  },
  {
   "cell_type": "code",
   "execution_count": 5,
   "metadata": {},
   "outputs": [
    {
     "name": "stdout",
     "output_type": "stream",
     "text": [
      "The diffusion coefficient D = 0.34(10^-8 m^2 s^-1) and the uncertainty in D = 0.00018(10^-8 m^2 s^-1) for Na ions in this glass\n"
     ]
    }
   ],
   "source": [
    "diffusion = m/6\n",
    "delta_diffusion = delta_m/6\n",
    "print(\"The diffusion coefficient D = {0:0.2f}(10^-8 m^2 s^-1) and the uncertainty in D = {1:0.5f}(10^-8 m^2 s^-1) for Na ions in this glass\".format(diffusion,delta_diffusion))"
   ]
  }
 ],
 "metadata": {
  "kernelspec": {
   "display_name": "Python 3",
   "language": "python",
   "name": "python3"
  },
  "language_info": {
   "codemirror_mode": {
    "name": "ipython",
    "version": 3
   },
   "file_extension": ".py",
   "mimetype": "text/x-python",
   "name": "python",
   "nbconvert_exporter": "python",
   "pygments_lexer": "ipython3",
   "version": "3.6.5"
  }
 },
 "nbformat": 4,
 "nbformat_minor": 2
}
