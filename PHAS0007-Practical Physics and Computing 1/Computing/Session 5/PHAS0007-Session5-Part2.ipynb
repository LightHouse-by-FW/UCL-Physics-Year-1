{
 "cells": [
  {
   "cell_type": "markdown",
   "metadata": {},
   "source": [
    "## PHAS0007 Session 5: Notebook 2\n",
    "# Fitting data with a least-squares fit: Implementation\n",
    "\n",
    "louise.dash@ucl.ac.uk Last updated 26.10.2018\n",
    "\n",
    "## Contents\n",
    "This Session has been split into two separate notebooks. This one assumes you have already read and understood the theory presented in the first notebook.\n",
    "\n",
    "This notebook reminds you of some of the useful numpy commands you'll need to use, and introduces you to how customize number formats in Python.\n",
    "\n",
    "You'll then implement the equations from the first notebook, and produce a straight line fit to some real data."
   ]
  },
  {
   "cell_type": "markdown",
   "metadata": {},
   "source": [
    "# Useful Python for implementing this\n",
    "\n",
    "### Numpy array commands:\n",
    "You'll need to make use of the following numpy commands that we already met in Session 3:\n",
    "\n",
    "* `len()`  finds the length of a list or array\n",
    "* `np.min()` returns the minimum value of an array\n",
    "* `np.max()` returns the maximum value of an array\n",
    "* `np.mean()` returns the mean value of the elements of an array\n",
    "* `np.sum()` returns the sum of the elements of the array.\n",
    "\n",
    "## Formatting numbers for output.\n",
    "Many of you will have noticed that Python's default number output doesn't always present data the way you expect or the way you want. Now we'll look at how we can customize how the data is output to the screen:\n",
    "\n",
    "     "
   ]
  },
  {
   "cell_type": "code",
   "execution_count": null,
   "metadata": {},
   "outputs": [],
   "source": [
    "# here are some numbers\n",
    "num_1 = 4.65467453905654\n",
    "num_2 = -828.06548098432\n",
    "\n",
    "# print with a defined number of decimal places: floating point numbers (f):\n",
    "print(\"num_1 is {0:0.3f} to 3 decimal places; num_2 is {1:0.4f} to 4 decimal places.\".format(num_1,num_2))"
   ]
  },
  {
   "cell_type": "markdown",
   "metadata": {},
   "source": [
    "*   The `0:` and `1:` within the curly brackets specify placeholder indexes. This tells Python that we want to replace the curly brackets with the current value of a variable.\n",
    "\n",
    "*   The `0.4f` within the curly brackets tells Python what format we want the number to be in . In this case we have specified floating-point numbers (`f`), with four decimal places (`0.4`, or just `.4`)\n",
    "\n",
    "* The `.format(number1,number2)` after the string tells Python that the variables we want to place into the string at the placeholder indexes are `number1` (in position `0:`) and `number2` (in position `1:`).\n",
    "\n",
    "* Therefore the text that actually appears on your plot will be something like:\n",
    "\"`y = 3.1234 x + 0.6789`\" (with different numbers depending on your calculation, of course!)"
   ]
  },
  {
   "cell_type": "markdown",
   "metadata": {},
   "source": [
    "On other occasions we might want to use `e`, for exponential/scientific format, or `d`, for (decimal) integer numbers. For example:\n"
   ]
  },
  {
   "cell_type": "code",
   "execution_count": null,
   "metadata": {},
   "outputs": [],
   "source": [
    "num_3 = 146.23\n",
    "num_4 = 42\n",
    "num_5 = 3.6589543805434e-8\n",
    "\n",
    "print(\"num_3 to 4dp is {0:0.4f} (extra zeros added automatically), or rounded to an integer it's {1:0.0f}\".format(num_3,num_3))\n",
    "print(\"num_4 really is an integer: {0:d}, while num_5 is best in exponential format: {1:6.2e}\".format(num_4,num_5))\n",
    "print(\"We can put num_5 in f format {0:0.10f} but you need enough digits otherwise you just get {1:0.6f}\".format(num_5,num_5))"
   ]
  },
  {
   "cell_type": "markdown",
   "metadata": {},
   "source": [
    "## Why is this useful here?\n",
    "\n",
    "Remember, when dealing with data you should quote all uncertainties in your results to 1 significant figure, and then give your measured or calculated value to the same precision (see section 1.3 of the [Lab Data Analysis Handbook](https://moodle-1819.ucl.ac.uk/mod/resource/view.php?id=522629). \n",
    "\n",
    "However, if you want to do further calculations with your results, you should always use the numbers at their full calculated precision - hence the best general rule is to ** *quote* ** your results to 1 significant figure in the uncertainty, but always ** *calculate* ** with the full number to avoid any rounding errors.\n",
    "\n",
    "In any case, you will need to output your result to full precision at some point in order to determine how many significant figures are required.\n",
    "\n",
    "So if, for example, you've calculated your least-squares fit line to have a slope of 3.1234567 +/- 0.0023543, you should quote the result as 3.123 +/- 0.002 (not forgetting appropriate units, of course!)\n",
    "\n",
    "Remember though, you can't use LaTeX-style formatting in a python `print()` statement, only ASCII (or if you really feel the need, Unicode) characters. It's fine to use \"^\" to represent a superscript and \"+/-\" for $\\pm$, etc,  in print statements."
   ]
  },
  {
   "cell_type": "markdown",
   "metadata": {},
   "source": [
    "### Adding text directly to your plot\n",
    "\n",
    "When you do your own least squares fit line, you're going to want to output the slope and intercept (together with their uncertainties) either as text output with a print statement, like above, or on the plot itself.\n",
    "\n",
    "To put a text string with formatted numbers directly on your plot, you'll need to work out roughly the x- and y- coordinates where you want the text to start, then use a command like this:\n",
    "\n",
    "    plt.text(x-coordinate, y-coordinate, \"y = {0:0.4f} x + {1:0.4f}\".format(slope,intercept))\n",
    "\n",
    "You'll need to change \"`x-coordinate`\" and \"`y-coordinate`\" to the numbers corresponding to the position on the plot where you want the text, and will probably need to tweak them to get the position exactly right (make sure the text isn't obscuring anything on the plot!)"
   ]
  },
  {
   "cell_type": "markdown",
   "metadata": {},
   "source": [
    "# Task: Putting this into practice\n",
    "\n",
    "Now you're going to implement the equations from the first notebook, writing your own code to fit the best line to some data, and plot both the data and the straight line together."
   ]
  },
  {
   "cell_type": "markdown",
   "metadata": {},
   "source": [
    "<div class=\"alert alert-warning\">\n",
    "<h4> Background to the data:</h4>\n",
    "<br>\n",
    "<p>The data you will fit comes from the PhD research of one of our demonstrators from the 2015-2016 session: Konstantinos Konstantinou. He's now finished his PhD and moved on to [greater things](https://www.ch.cam.ac.uk/person/kk614).</p>\n",
    "<br>\n",
    "<p>\n",
    "Konstantinos was studying how ions move through amorphous glass structures. The way the ions move affects the structural properties of the glass, and understanding this means it is possible to engineer glass with particular properties for different uses, from microelectronic devices to nuclear waste storage.</p>\n",
    "<br>\n",
    "<p>The data you are analysing today comes from a molecular dynamics (MD) simulation - a computational calculation of how a system of atoms or molecules evolve over time, using Newton's second law to calculate the forces on each atom due to every other atom. </p>\n",
    "<br>\n",
    "This particular simulation has measured how sodium ions diffuse through glass. An ion (or atom, or molecule) does not move through a substance (solid, liquid or gas) in a simple straight line, it is constantly colliding and bouncing off the other atoms it encounters on its path. If you look at the path of a single ion through the glass it would look like a random series of steps. This is basically the same phenomenon as Brownian motion, studied by Einstein in his 1905 PhD thesis. Einstein showed that the mean square displacement (MSD) (the average of the square of the distance travelled by the ion) is directly proportional to the elapsed time:\n",
    "\n",
    " $$MSD = \\langle r^2 \\rangle = 6Dt + c. $$\n",
    "\n",
    "It is the constant D we are interested in, this is the diffusion coefficient and gives important information about the mobility of ions in the glass. You will notice that this equation is of the form \n",
    "$$ y = mx + c, $$\n",
    "and that we can therefore calculate the diffusion coefficient $D$ from the slope $m$ of the fitted line:\n",
    "$$ D = \\frac{m}{6}. $$\n",
    "</div>"
   ]
  },
  {
   "cell_type": "markdown",
   "metadata": {},
   "source": [
    "## What you should do:\n",
    "\n",
    "* Start with the code you wrote last session for the x-ray diffraction plot. Adapt this to read in and plot the data file \"Session5data.csv\". This time, plot the data as points, without any line joining them. Check the data file itself to find out the quantities in each column and their units.\n",
    "\n",
    "* Make sure that the code reads the data file from the same directory that your notebook is in. Don't make any changes to the data file itself.\n",
    "\n",
    "* Remember to include use text cells to explain what you're doing as you go along, and to include # code comments in the code cells where appropriate. Don't forget to start with an introductory paragraph.\n",
    "\n",
    "*  Now implement the least squares fit equations in your code, i.e. calculate\n",
    "\n",
    "$$ m = \\frac{\\sum(x_i - \\bar{x}) y_i}{\\sum (x_i - \\bar{x})^2} = \\frac{\\sum x_i (y_i - \\bar{y})}{\\sum x_i (x_i - \\bar{x})}; $$\n",
    "\n",
    "$$ c = \\bar{y} - m \\bar{x} $$\n",
    "\n",
    "* Also calculate the uncertainty in the slope and intercept using equations 37 and 38 from the PHAS1240(PHAS0007) Data Analysis handbook ( https://moodle-1819.ucl.ac.uk/mod/resource/view.php?id=522629)\n",
    "    * _Careful: the $D$ in these equations is **not** the diffusion coefficient!_\n",
    "    \n",
    "* Output, at full precision, your calculated values for the slope, the intercept, and their uncertainties, together with their units and an appropriate text string.\n",
    "\n",
    "* Plot the fitted straight line on the same plot as the data. **_You do not need to plot the residuals or any squares on your graph - just the fitted line!_**\n",
    "  * Don't forget things like units, grid, legend, etc\n",
    "\n",
    "* Use Python number formatting to output, at the appropriate precision for quoting your results, your calculated slope and intercept, and the uncertainty in the slope and intercept, (or alternatively the equation of the straight line, including uncertainties). You can do this either\n",
    "  * On your plot itself, using `plt.text()`; or\n",
    "  * In a `print()` output in the same code cell as your plot.\n",
    "\n",
    "* Use your results to calculate both the diffusion coefficient $D$ and the uncertainty in  $D$ for Na ions in this glass.\n",
    "\n",
    "* Remember to use text cells to explain what you're doing as you go along, and to include # code comments in the code cells where appropriate. Don't forget to end with a brief (sentence or short paragraph) conclusion/summary."
   ]
  },
  {
   "cell_type": "code",
   "execution_count": null,
   "metadata": {
    "collapsed": true
   },
   "outputs": [],
   "source": []
  }
 ],
 "metadata": {
  "anaconda-cloud": {},
  "kernelspec": {
   "display_name": "Python 3",
   "language": "python",
   "name": "python3"
  },
  "language_info": {
   "codemirror_mode": {
    "name": "ipython",
    "version": 3
   },
   "file_extension": ".py",
   "mimetype": "text/x-python",
   "name": "python",
   "nbconvert_exporter": "python",
   "pygments_lexer": "ipython3",
   "version": "3.6.5"
  }
 },
 "nbformat": 4,
 "nbformat_minor": 1
}
